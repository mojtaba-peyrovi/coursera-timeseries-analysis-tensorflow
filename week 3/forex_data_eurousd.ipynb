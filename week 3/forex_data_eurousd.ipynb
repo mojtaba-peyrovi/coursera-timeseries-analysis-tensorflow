{
 "cells": [
  {
   "cell_type": "code",
   "execution_count": 6,
   "metadata": {},
   "outputs": [
    {
     "name": "stdout",
     "output_type": "stream",
     "text": [
      "2.0.0-beta1\n"
     ]
    }
   ],
   "source": [
    "import tensorflow as tf\n",
    "import numpy as np\n",
    "import matplotlib.pyplot as plt\n",
    "from datetime import datetime\n",
    "import pandas as pd\n",
    "print(tf.__version__)"
   ]
  },
  {
   "cell_type": "code",
   "execution_count": 7,
   "metadata": {},
   "outputs": [],
   "source": [
    "euroUSD_data = pd.read_excel(\"DAT_XLSX_EURUSD_M1_201909.xlsx\", names=[\"timestamp\",\"open\",\"max\",\"min\",\"close\",\"else\"])"
   ]
  },
  {
   "cell_type": "code",
   "execution_count": 8,
   "metadata": {},
   "outputs": [
    {
     "data": {
      "text/html": [
       "<div>\n",
       "<style scoped>\n",
       "    .dataframe tbody tr th:only-of-type {\n",
       "        vertical-align: middle;\n",
       "    }\n",
       "\n",
       "    .dataframe tbody tr th {\n",
       "        vertical-align: top;\n",
       "    }\n",
       "\n",
       "    .dataframe thead th {\n",
       "        text-align: right;\n",
       "    }\n",
       "</style>\n",
       "<table border=\"1\" class=\"dataframe\">\n",
       "  <thead>\n",
       "    <tr style=\"text-align: right;\">\n",
       "      <th></th>\n",
       "      <th>timestamp</th>\n",
       "      <th>open</th>\n",
       "      <th>max</th>\n",
       "      <th>min</th>\n",
       "      <th>close</th>\n",
       "      <th>else</th>\n",
       "    </tr>\n",
       "  </thead>\n",
       "  <tbody>\n",
       "    <tr>\n",
       "      <th>0</th>\n",
       "      <td>2019-09-01 17:05:00</td>\n",
       "      <td>1.09893</td>\n",
       "      <td>1.09897</td>\n",
       "      <td>1.09893</td>\n",
       "      <td>1.09896</td>\n",
       "      <td>0</td>\n",
       "    </tr>\n",
       "    <tr>\n",
       "      <th>1</th>\n",
       "      <td>2019-09-01 17:06:00</td>\n",
       "      <td>1.09890</td>\n",
       "      <td>1.09890</td>\n",
       "      <td>1.09890</td>\n",
       "      <td>1.09890</td>\n",
       "      <td>0</td>\n",
       "    </tr>\n",
       "    <tr>\n",
       "      <th>2</th>\n",
       "      <td>2019-09-01 17:07:00</td>\n",
       "      <td>1.09892</td>\n",
       "      <td>1.09892</td>\n",
       "      <td>1.09882</td>\n",
       "      <td>1.09882</td>\n",
       "      <td>0</td>\n",
       "    </tr>\n",
       "    <tr>\n",
       "      <th>3</th>\n",
       "      <td>2019-09-01 17:08:00</td>\n",
       "      <td>1.09883</td>\n",
       "      <td>1.09883</td>\n",
       "      <td>1.09883</td>\n",
       "      <td>1.09883</td>\n",
       "      <td>0</td>\n",
       "    </tr>\n",
       "    <tr>\n",
       "      <th>4</th>\n",
       "      <td>2019-09-01 17:10:00</td>\n",
       "      <td>1.09881</td>\n",
       "      <td>1.09881</td>\n",
       "      <td>1.09868</td>\n",
       "      <td>1.09869</td>\n",
       "      <td>0</td>\n",
       "    </tr>\n",
       "  </tbody>\n",
       "</table>\n",
       "</div>"
      ],
      "text/plain": [
       "            timestamp     open      max      min    close  else\n",
       "0 2019-09-01 17:05:00  1.09893  1.09897  1.09893  1.09896     0\n",
       "1 2019-09-01 17:06:00  1.09890  1.09890  1.09890  1.09890     0\n",
       "2 2019-09-01 17:07:00  1.09892  1.09892  1.09882  1.09882     0\n",
       "3 2019-09-01 17:08:00  1.09883  1.09883  1.09883  1.09883     0\n",
       "4 2019-09-01 17:10:00  1.09881  1.09881  1.09868  1.09869     0"
      ]
     },
     "execution_count": 8,
     "metadata": {},
     "output_type": "execute_result"
    }
   ],
   "source": [
    "euroUSD_data.head()"
   ]
  },
  {
   "cell_type": "code",
   "execution_count": 9,
   "metadata": {},
   "outputs": [],
   "source": [
    "euroUSD_data = euroUSD_data.drop(\"else\", axis=1)"
   ]
  },
  {
   "cell_type": "code",
   "execution_count": 10,
   "metadata": {},
   "outputs": [
    {
     "data": {
      "text/html": [
       "<div>\n",
       "<style scoped>\n",
       "    .dataframe tbody tr th:only-of-type {\n",
       "        vertical-align: middle;\n",
       "    }\n",
       "\n",
       "    .dataframe tbody tr th {\n",
       "        vertical-align: top;\n",
       "    }\n",
       "\n",
       "    .dataframe thead th {\n",
       "        text-align: right;\n",
       "    }\n",
       "</style>\n",
       "<table border=\"1\" class=\"dataframe\">\n",
       "  <thead>\n",
       "    <tr style=\"text-align: right;\">\n",
       "      <th></th>\n",
       "      <th>timestamp</th>\n",
       "      <th>open</th>\n",
       "      <th>max</th>\n",
       "      <th>min</th>\n",
       "      <th>close</th>\n",
       "    </tr>\n",
       "  </thead>\n",
       "  <tbody>\n",
       "    <tr>\n",
       "      <th>30609</th>\n",
       "      <td>2019-09-30 23:54:00</td>\n",
       "      <td>1.08878</td>\n",
       "      <td>1.08883</td>\n",
       "      <td>1.08878</td>\n",
       "      <td>1.08881</td>\n",
       "    </tr>\n",
       "    <tr>\n",
       "      <th>30610</th>\n",
       "      <td>2019-09-30 23:55:00</td>\n",
       "      <td>1.08882</td>\n",
       "      <td>1.08896</td>\n",
       "      <td>1.08881</td>\n",
       "      <td>1.08896</td>\n",
       "    </tr>\n",
       "    <tr>\n",
       "      <th>30611</th>\n",
       "      <td>2019-09-30 23:56:00</td>\n",
       "      <td>1.08895</td>\n",
       "      <td>1.08897</td>\n",
       "      <td>1.08891</td>\n",
       "      <td>1.08892</td>\n",
       "    </tr>\n",
       "    <tr>\n",
       "      <th>30612</th>\n",
       "      <td>2019-09-30 23:57:00</td>\n",
       "      <td>1.08894</td>\n",
       "      <td>1.08894</td>\n",
       "      <td>1.08891</td>\n",
       "      <td>1.08892</td>\n",
       "    </tr>\n",
       "    <tr>\n",
       "      <th>30613</th>\n",
       "      <td>2019-09-30 23:58:00</td>\n",
       "      <td>1.08891</td>\n",
       "      <td>1.08891</td>\n",
       "      <td>1.08883</td>\n",
       "      <td>1.08883</td>\n",
       "    </tr>\n",
       "  </tbody>\n",
       "</table>\n",
       "</div>"
      ],
      "text/plain": [
       "                timestamp     open      max      min    close\n",
       "30609 2019-09-30 23:54:00  1.08878  1.08883  1.08878  1.08881\n",
       "30610 2019-09-30 23:55:00  1.08882  1.08896  1.08881  1.08896\n",
       "30611 2019-09-30 23:56:00  1.08895  1.08897  1.08891  1.08892\n",
       "30612 2019-09-30 23:57:00  1.08894  1.08894  1.08891  1.08892\n",
       "30613 2019-09-30 23:58:00  1.08891  1.08891  1.08883  1.08883"
      ]
     },
     "execution_count": 10,
     "metadata": {},
     "output_type": "execute_result"
    }
   ],
   "source": [
    "euroUSD_data.tail()"
   ]
  },
  {
   "cell_type": "code",
   "execution_count": 11,
   "metadata": {},
   "outputs": [],
   "source": [
    "euroUSD_data['delta'] = euroUSD_data['close']-euroUSD_data['open']"
   ]
  },
  {
   "cell_type": "code",
   "execution_count": null,
   "metadata": {},
   "outputs": [],
   "source": []
  },
  {
   "cell_type": "code",
   "execution_count": 12,
   "metadata": {},
   "outputs": [
    {
     "data": {
      "text/html": [
       "<div>\n",
       "<style scoped>\n",
       "    .dataframe tbody tr th:only-of-type {\n",
       "        vertical-align: middle;\n",
       "    }\n",
       "\n",
       "    .dataframe tbody tr th {\n",
       "        vertical-align: top;\n",
       "    }\n",
       "\n",
       "    .dataframe thead th {\n",
       "        text-align: right;\n",
       "    }\n",
       "</style>\n",
       "<table border=\"1\" class=\"dataframe\">\n",
       "  <thead>\n",
       "    <tr style=\"text-align: right;\">\n",
       "      <th></th>\n",
       "      <th>timestamp</th>\n",
       "      <th>open</th>\n",
       "      <th>max</th>\n",
       "      <th>min</th>\n",
       "      <th>close</th>\n",
       "      <th>delta</th>\n",
       "    </tr>\n",
       "  </thead>\n",
       "  <tbody>\n",
       "    <tr>\n",
       "      <th>0</th>\n",
       "      <td>2019-09-01 17:05:00</td>\n",
       "      <td>1.09893</td>\n",
       "      <td>1.09897</td>\n",
       "      <td>1.09893</td>\n",
       "      <td>1.09896</td>\n",
       "      <td>0.00003</td>\n",
       "    </tr>\n",
       "    <tr>\n",
       "      <th>1</th>\n",
       "      <td>2019-09-01 17:06:00</td>\n",
       "      <td>1.09890</td>\n",
       "      <td>1.09890</td>\n",
       "      <td>1.09890</td>\n",
       "      <td>1.09890</td>\n",
       "      <td>0.00000</td>\n",
       "    </tr>\n",
       "    <tr>\n",
       "      <th>2</th>\n",
       "      <td>2019-09-01 17:07:00</td>\n",
       "      <td>1.09892</td>\n",
       "      <td>1.09892</td>\n",
       "      <td>1.09882</td>\n",
       "      <td>1.09882</td>\n",
       "      <td>-0.00010</td>\n",
       "    </tr>\n",
       "    <tr>\n",
       "      <th>3</th>\n",
       "      <td>2019-09-01 17:08:00</td>\n",
       "      <td>1.09883</td>\n",
       "      <td>1.09883</td>\n",
       "      <td>1.09883</td>\n",
       "      <td>1.09883</td>\n",
       "      <td>0.00000</td>\n",
       "    </tr>\n",
       "    <tr>\n",
       "      <th>4</th>\n",
       "      <td>2019-09-01 17:10:00</td>\n",
       "      <td>1.09881</td>\n",
       "      <td>1.09881</td>\n",
       "      <td>1.09868</td>\n",
       "      <td>1.09869</td>\n",
       "      <td>-0.00012</td>\n",
       "    </tr>\n",
       "  </tbody>\n",
       "</table>\n",
       "</div>"
      ],
      "text/plain": [
       "            timestamp     open      max      min    close    delta\n",
       "0 2019-09-01 17:05:00  1.09893  1.09897  1.09893  1.09896  0.00003\n",
       "1 2019-09-01 17:06:00  1.09890  1.09890  1.09890  1.09890  0.00000\n",
       "2 2019-09-01 17:07:00  1.09892  1.09892  1.09882  1.09882 -0.00010\n",
       "3 2019-09-01 17:08:00  1.09883  1.09883  1.09883  1.09883  0.00000\n",
       "4 2019-09-01 17:10:00  1.09881  1.09881  1.09868  1.09869 -0.00012"
      ]
     },
     "execution_count": 12,
     "metadata": {},
     "output_type": "execute_result"
    }
   ],
   "source": [
    "euroUSD_data.head()"
   ]
  },
  {
   "cell_type": "markdown",
   "metadata": {},
   "source": [
    "### Create date & time from timestamp"
   ]
  },
  {
   "cell_type": "code",
   "execution_count": 13,
   "metadata": {},
   "outputs": [],
   "source": [
    "euroUSD_data['date'] = [d.date() for d in euroUSD_data['timestamp']]\n",
    "euroUSD_data['time'] = [d.time() for d in euroUSD_data['timestamp']]"
   ]
  },
  {
   "cell_type": "code",
   "execution_count": 14,
   "metadata": {},
   "outputs": [],
   "source": [
    "# euroUSD_data['date'] = euroUSD_data.timestamp.apply(lambda x: x.date())\n",
    "# euroUSD_data['time'] = euroUSD_data.timestamp.apply(lambda x: x.time())"
   ]
  },
  {
   "cell_type": "code",
   "execution_count": 15,
   "metadata": {},
   "outputs": [
    {
     "data": {
      "text/html": [
       "<div>\n",
       "<style scoped>\n",
       "    .dataframe tbody tr th:only-of-type {\n",
       "        vertical-align: middle;\n",
       "    }\n",
       "\n",
       "    .dataframe tbody tr th {\n",
       "        vertical-align: top;\n",
       "    }\n",
       "\n",
       "    .dataframe thead th {\n",
       "        text-align: right;\n",
       "    }\n",
       "</style>\n",
       "<table border=\"1\" class=\"dataframe\">\n",
       "  <thead>\n",
       "    <tr style=\"text-align: right;\">\n",
       "      <th></th>\n",
       "      <th>timestamp</th>\n",
       "      <th>open</th>\n",
       "      <th>max</th>\n",
       "      <th>min</th>\n",
       "      <th>close</th>\n",
       "      <th>delta</th>\n",
       "      <th>date</th>\n",
       "      <th>time</th>\n",
       "    </tr>\n",
       "  </thead>\n",
       "  <tbody>\n",
       "    <tr>\n",
       "      <th>0</th>\n",
       "      <td>2019-09-01 17:05:00</td>\n",
       "      <td>1.09893</td>\n",
       "      <td>1.09897</td>\n",
       "      <td>1.09893</td>\n",
       "      <td>1.09896</td>\n",
       "      <td>0.00003</td>\n",
       "      <td>2019-09-01</td>\n",
       "      <td>17:05:00</td>\n",
       "    </tr>\n",
       "    <tr>\n",
       "      <th>1</th>\n",
       "      <td>2019-09-01 17:06:00</td>\n",
       "      <td>1.09890</td>\n",
       "      <td>1.09890</td>\n",
       "      <td>1.09890</td>\n",
       "      <td>1.09890</td>\n",
       "      <td>0.00000</td>\n",
       "      <td>2019-09-01</td>\n",
       "      <td>17:06:00</td>\n",
       "    </tr>\n",
       "    <tr>\n",
       "      <th>2</th>\n",
       "      <td>2019-09-01 17:07:00</td>\n",
       "      <td>1.09892</td>\n",
       "      <td>1.09892</td>\n",
       "      <td>1.09882</td>\n",
       "      <td>1.09882</td>\n",
       "      <td>-0.00010</td>\n",
       "      <td>2019-09-01</td>\n",
       "      <td>17:07:00</td>\n",
       "    </tr>\n",
       "    <tr>\n",
       "      <th>3</th>\n",
       "      <td>2019-09-01 17:08:00</td>\n",
       "      <td>1.09883</td>\n",
       "      <td>1.09883</td>\n",
       "      <td>1.09883</td>\n",
       "      <td>1.09883</td>\n",
       "      <td>0.00000</td>\n",
       "      <td>2019-09-01</td>\n",
       "      <td>17:08:00</td>\n",
       "    </tr>\n",
       "    <tr>\n",
       "      <th>4</th>\n",
       "      <td>2019-09-01 17:10:00</td>\n",
       "      <td>1.09881</td>\n",
       "      <td>1.09881</td>\n",
       "      <td>1.09868</td>\n",
       "      <td>1.09869</td>\n",
       "      <td>-0.00012</td>\n",
       "      <td>2019-09-01</td>\n",
       "      <td>17:10:00</td>\n",
       "    </tr>\n",
       "  </tbody>\n",
       "</table>\n",
       "</div>"
      ],
      "text/plain": [
       "            timestamp     open      max      min    close    delta  \\\n",
       "0 2019-09-01 17:05:00  1.09893  1.09897  1.09893  1.09896  0.00003   \n",
       "1 2019-09-01 17:06:00  1.09890  1.09890  1.09890  1.09890  0.00000   \n",
       "2 2019-09-01 17:07:00  1.09892  1.09892  1.09882  1.09882 -0.00010   \n",
       "3 2019-09-01 17:08:00  1.09883  1.09883  1.09883  1.09883  0.00000   \n",
       "4 2019-09-01 17:10:00  1.09881  1.09881  1.09868  1.09869 -0.00012   \n",
       "\n",
       "         date      time  \n",
       "0  2019-09-01  17:05:00  \n",
       "1  2019-09-01  17:06:00  \n",
       "2  2019-09-01  17:07:00  \n",
       "3  2019-09-01  17:08:00  \n",
       "4  2019-09-01  17:10:00  "
      ]
     },
     "execution_count": 15,
     "metadata": {},
     "output_type": "execute_result"
    }
   ],
   "source": [
    "euroUSD_data.head()"
   ]
  },
  {
   "cell_type": "code",
   "execution_count": 16,
   "metadata": {},
   "outputs": [],
   "source": [
    "# euroUSD_data.date = pd.to_datetime(euroUSD_data.date, format=\"%Y-%m-%d\")\n"
   ]
  },
  {
   "cell_type": "code",
   "execution_count": 17,
   "metadata": {},
   "outputs": [],
   "source": [
    "# euroUSD_data.time = pd.to_datetime(euroUSD_data.time, format=\"%H:%M:%S\")"
   ]
  },
  {
   "cell_type": "code",
   "execution_count": 18,
   "metadata": {},
   "outputs": [],
   "source": [
    "# euroUSD_data.time = euroUSD_data.timestamp.apply(lambda x: x.time())"
   ]
  },
  {
   "cell_type": "code",
   "execution_count": 19,
   "metadata": {},
   "outputs": [],
   "source": [
    "# euroUSD_data.time.dtype"
   ]
  },
  {
   "cell_type": "code",
   "execution_count": 20,
   "metadata": {},
   "outputs": [
    {
     "data": {
      "text/html": [
       "<div>\n",
       "<style scoped>\n",
       "    .dataframe tbody tr th:only-of-type {\n",
       "        vertical-align: middle;\n",
       "    }\n",
       "\n",
       "    .dataframe tbody tr th {\n",
       "        vertical-align: top;\n",
       "    }\n",
       "\n",
       "    .dataframe thead th {\n",
       "        text-align: right;\n",
       "    }\n",
       "</style>\n",
       "<table border=\"1\" class=\"dataframe\">\n",
       "  <thead>\n",
       "    <tr style=\"text-align: right;\">\n",
       "      <th></th>\n",
       "      <th>timestamp</th>\n",
       "      <th>open</th>\n",
       "      <th>max</th>\n",
       "      <th>min</th>\n",
       "      <th>close</th>\n",
       "      <th>delta</th>\n",
       "      <th>date</th>\n",
       "      <th>time</th>\n",
       "    </tr>\n",
       "  </thead>\n",
       "  <tbody>\n",
       "    <tr>\n",
       "      <th>0</th>\n",
       "      <td>2019-09-01 17:05:00</td>\n",
       "      <td>1.09893</td>\n",
       "      <td>1.09897</td>\n",
       "      <td>1.09893</td>\n",
       "      <td>1.09896</td>\n",
       "      <td>0.00003</td>\n",
       "      <td>2019-09-01</td>\n",
       "      <td>17:05:00</td>\n",
       "    </tr>\n",
       "    <tr>\n",
       "      <th>1</th>\n",
       "      <td>2019-09-01 17:06:00</td>\n",
       "      <td>1.09890</td>\n",
       "      <td>1.09890</td>\n",
       "      <td>1.09890</td>\n",
       "      <td>1.09890</td>\n",
       "      <td>0.00000</td>\n",
       "      <td>2019-09-01</td>\n",
       "      <td>17:06:00</td>\n",
       "    </tr>\n",
       "    <tr>\n",
       "      <th>2</th>\n",
       "      <td>2019-09-01 17:07:00</td>\n",
       "      <td>1.09892</td>\n",
       "      <td>1.09892</td>\n",
       "      <td>1.09882</td>\n",
       "      <td>1.09882</td>\n",
       "      <td>-0.00010</td>\n",
       "      <td>2019-09-01</td>\n",
       "      <td>17:07:00</td>\n",
       "    </tr>\n",
       "    <tr>\n",
       "      <th>3</th>\n",
       "      <td>2019-09-01 17:08:00</td>\n",
       "      <td>1.09883</td>\n",
       "      <td>1.09883</td>\n",
       "      <td>1.09883</td>\n",
       "      <td>1.09883</td>\n",
       "      <td>0.00000</td>\n",
       "      <td>2019-09-01</td>\n",
       "      <td>17:08:00</td>\n",
       "    </tr>\n",
       "    <tr>\n",
       "      <th>4</th>\n",
       "      <td>2019-09-01 17:10:00</td>\n",
       "      <td>1.09881</td>\n",
       "      <td>1.09881</td>\n",
       "      <td>1.09868</td>\n",
       "      <td>1.09869</td>\n",
       "      <td>-0.00012</td>\n",
       "      <td>2019-09-01</td>\n",
       "      <td>17:10:00</td>\n",
       "    </tr>\n",
       "  </tbody>\n",
       "</table>\n",
       "</div>"
      ],
      "text/plain": [
       "            timestamp     open      max      min    close    delta  \\\n",
       "0 2019-09-01 17:05:00  1.09893  1.09897  1.09893  1.09896  0.00003   \n",
       "1 2019-09-01 17:06:00  1.09890  1.09890  1.09890  1.09890  0.00000   \n",
       "2 2019-09-01 17:07:00  1.09892  1.09892  1.09882  1.09882 -0.00010   \n",
       "3 2019-09-01 17:08:00  1.09883  1.09883  1.09883  1.09883  0.00000   \n",
       "4 2019-09-01 17:10:00  1.09881  1.09881  1.09868  1.09869 -0.00012   \n",
       "\n",
       "         date      time  \n",
       "0  2019-09-01  17:05:00  \n",
       "1  2019-09-01  17:06:00  \n",
       "2  2019-09-01  17:07:00  \n",
       "3  2019-09-01  17:08:00  \n",
       "4  2019-09-01  17:10:00  "
      ]
     },
     "execution_count": 20,
     "metadata": {},
     "output_type": "execute_result"
    }
   ],
   "source": [
    "euroUSD_data.head()"
   ]
  },
  {
   "cell_type": "code",
   "execution_count": 21,
   "metadata": {},
   "outputs": [],
   "source": [
    "euroUSD_data.date = pd.to_datetime(euroUSD_data.date, format=\"%Y-%m-%d\")"
   ]
  },
  {
   "cell_type": "code",
   "execution_count": 22,
   "metadata": {},
   "outputs": [],
   "source": [
    "euroUSD_data_tst = euroUSD_data[euroUSD_data['date']==\"2019-09-03\"].reset_index()"
   ]
  },
  {
   "cell_type": "code",
   "execution_count": 23,
   "metadata": {},
   "outputs": [
    {
     "data": {
      "text/html": [
       "<div>\n",
       "<style scoped>\n",
       "    .dataframe tbody tr th:only-of-type {\n",
       "        vertical-align: middle;\n",
       "    }\n",
       "\n",
       "    .dataframe tbody tr th {\n",
       "        vertical-align: top;\n",
       "    }\n",
       "\n",
       "    .dataframe thead th {\n",
       "        text-align: right;\n",
       "    }\n",
       "</style>\n",
       "<table border=\"1\" class=\"dataframe\">\n",
       "  <thead>\n",
       "    <tr style=\"text-align: right;\">\n",
       "      <th></th>\n",
       "      <th>index</th>\n",
       "      <th>timestamp</th>\n",
       "      <th>open</th>\n",
       "      <th>max</th>\n",
       "      <th>min</th>\n",
       "      <th>close</th>\n",
       "      <th>delta</th>\n",
       "      <th>date</th>\n",
       "      <th>time</th>\n",
       "    </tr>\n",
       "  </thead>\n",
       "  <tbody>\n",
       "    <tr>\n",
       "      <th>0</th>\n",
       "      <td>1838</td>\n",
       "      <td>2019-09-03 00:00:00</td>\n",
       "      <td>1.09357</td>\n",
       "      <td>1.09357</td>\n",
       "      <td>1.09345</td>\n",
       "      <td>1.09345</td>\n",
       "      <td>-0.00012</td>\n",
       "      <td>2019-09-03</td>\n",
       "      <td>00:00:00</td>\n",
       "    </tr>\n",
       "    <tr>\n",
       "      <th>1</th>\n",
       "      <td>1839</td>\n",
       "      <td>2019-09-03 00:01:00</td>\n",
       "      <td>1.09344</td>\n",
       "      <td>1.09350</td>\n",
       "      <td>1.09338</td>\n",
       "      <td>1.09348</td>\n",
       "      <td>0.00004</td>\n",
       "      <td>2019-09-03</td>\n",
       "      <td>00:01:00</td>\n",
       "    </tr>\n",
       "    <tr>\n",
       "      <th>2</th>\n",
       "      <td>1840</td>\n",
       "      <td>2019-09-03 00:02:00</td>\n",
       "      <td>1.09349</td>\n",
       "      <td>1.09350</td>\n",
       "      <td>1.09346</td>\n",
       "      <td>1.09348</td>\n",
       "      <td>-0.00001</td>\n",
       "      <td>2019-09-03</td>\n",
       "      <td>00:02:00</td>\n",
       "    </tr>\n",
       "    <tr>\n",
       "      <th>3</th>\n",
       "      <td>1841</td>\n",
       "      <td>2019-09-03 00:03:00</td>\n",
       "      <td>1.09348</td>\n",
       "      <td>1.09350</td>\n",
       "      <td>1.09346</td>\n",
       "      <td>1.09348</td>\n",
       "      <td>0.00000</td>\n",
       "      <td>2019-09-03</td>\n",
       "      <td>00:03:00</td>\n",
       "    </tr>\n",
       "    <tr>\n",
       "      <th>4</th>\n",
       "      <td>1842</td>\n",
       "      <td>2019-09-03 00:04:00</td>\n",
       "      <td>1.09349</td>\n",
       "      <td>1.09351</td>\n",
       "      <td>1.09346</td>\n",
       "      <td>1.09350</td>\n",
       "      <td>0.00001</td>\n",
       "      <td>2019-09-03</td>\n",
       "      <td>00:04:00</td>\n",
       "    </tr>\n",
       "  </tbody>\n",
       "</table>\n",
       "</div>"
      ],
      "text/plain": [
       "   index           timestamp     open      max      min    close    delta  \\\n",
       "0   1838 2019-09-03 00:00:00  1.09357  1.09357  1.09345  1.09345 -0.00012   \n",
       "1   1839 2019-09-03 00:01:00  1.09344  1.09350  1.09338  1.09348  0.00004   \n",
       "2   1840 2019-09-03 00:02:00  1.09349  1.09350  1.09346  1.09348 -0.00001   \n",
       "3   1841 2019-09-03 00:03:00  1.09348  1.09350  1.09346  1.09348  0.00000   \n",
       "4   1842 2019-09-03 00:04:00  1.09349  1.09351  1.09346  1.09350  0.00001   \n",
       "\n",
       "        date      time  \n",
       "0 2019-09-03  00:00:00  \n",
       "1 2019-09-03  00:01:00  \n",
       "2 2019-09-03  00:02:00  \n",
       "3 2019-09-03  00:03:00  \n",
       "4 2019-09-03  00:04:00  "
      ]
     },
     "execution_count": 23,
     "metadata": {},
     "output_type": "execute_result"
    }
   ],
   "source": [
    "euroUSD_data_tst.head()"
   ]
  },
  {
   "cell_type": "code",
   "execution_count": 24,
   "metadata": {},
   "outputs": [
    {
     "data": {
      "text/html": [
       "<div>\n",
       "<style scoped>\n",
       "    .dataframe tbody tr th:only-of-type {\n",
       "        vertical-align: middle;\n",
       "    }\n",
       "\n",
       "    .dataframe tbody tr th {\n",
       "        vertical-align: top;\n",
       "    }\n",
       "\n",
       "    .dataframe thead th {\n",
       "        text-align: right;\n",
       "    }\n",
       "</style>\n",
       "<table border=\"1\" class=\"dataframe\">\n",
       "  <thead>\n",
       "    <tr style=\"text-align: right;\">\n",
       "      <th></th>\n",
       "      <th>index</th>\n",
       "      <th>timestamp</th>\n",
       "      <th>open</th>\n",
       "      <th>max</th>\n",
       "      <th>min</th>\n",
       "      <th>close</th>\n",
       "      <th>delta</th>\n",
       "      <th>date</th>\n",
       "      <th>time</th>\n",
       "    </tr>\n",
       "  </thead>\n",
       "  <tbody>\n",
       "    <tr>\n",
       "      <th>0</th>\n",
       "      <td>1838</td>\n",
       "      <td>2019-09-03 00:00:00</td>\n",
       "      <td>1.09357</td>\n",
       "      <td>1.09357</td>\n",
       "      <td>1.09345</td>\n",
       "      <td>1.09345</td>\n",
       "      <td>-0.00012</td>\n",
       "      <td>2019-09-03</td>\n",
       "      <td>00:00:00</td>\n",
       "    </tr>\n",
       "    <tr>\n",
       "      <th>1</th>\n",
       "      <td>1839</td>\n",
       "      <td>2019-09-03 00:01:00</td>\n",
       "      <td>1.09344</td>\n",
       "      <td>1.09350</td>\n",
       "      <td>1.09338</td>\n",
       "      <td>1.09348</td>\n",
       "      <td>0.00004</td>\n",
       "      <td>2019-09-03</td>\n",
       "      <td>00:01:00</td>\n",
       "    </tr>\n",
       "    <tr>\n",
       "      <th>2</th>\n",
       "      <td>1840</td>\n",
       "      <td>2019-09-03 00:02:00</td>\n",
       "      <td>1.09349</td>\n",
       "      <td>1.09350</td>\n",
       "      <td>1.09346</td>\n",
       "      <td>1.09348</td>\n",
       "      <td>-0.00001</td>\n",
       "      <td>2019-09-03</td>\n",
       "      <td>00:02:00</td>\n",
       "    </tr>\n",
       "    <tr>\n",
       "      <th>3</th>\n",
       "      <td>1841</td>\n",
       "      <td>2019-09-03 00:03:00</td>\n",
       "      <td>1.09348</td>\n",
       "      <td>1.09350</td>\n",
       "      <td>1.09346</td>\n",
       "      <td>1.09348</td>\n",
       "      <td>0.00000</td>\n",
       "      <td>2019-09-03</td>\n",
       "      <td>00:03:00</td>\n",
       "    </tr>\n",
       "    <tr>\n",
       "      <th>4</th>\n",
       "      <td>1842</td>\n",
       "      <td>2019-09-03 00:04:00</td>\n",
       "      <td>1.09349</td>\n",
       "      <td>1.09351</td>\n",
       "      <td>1.09346</td>\n",
       "      <td>1.09350</td>\n",
       "      <td>0.00001</td>\n",
       "      <td>2019-09-03</td>\n",
       "      <td>00:04:00</td>\n",
       "    </tr>\n",
       "  </tbody>\n",
       "</table>\n",
       "</div>"
      ],
      "text/plain": [
       "   index           timestamp     open      max      min    close    delta  \\\n",
       "0   1838 2019-09-03 00:00:00  1.09357  1.09357  1.09345  1.09345 -0.00012   \n",
       "1   1839 2019-09-03 00:01:00  1.09344  1.09350  1.09338  1.09348  0.00004   \n",
       "2   1840 2019-09-03 00:02:00  1.09349  1.09350  1.09346  1.09348 -0.00001   \n",
       "3   1841 2019-09-03 00:03:00  1.09348  1.09350  1.09346  1.09348  0.00000   \n",
       "4   1842 2019-09-03 00:04:00  1.09349  1.09351  1.09346  1.09350  0.00001   \n",
       "\n",
       "        date      time  \n",
       "0 2019-09-03  00:00:00  \n",
       "1 2019-09-03  00:01:00  \n",
       "2 2019-09-03  00:02:00  \n",
       "3 2019-09-03  00:03:00  \n",
       "4 2019-09-03  00:04:00  "
      ]
     },
     "execution_count": 24,
     "metadata": {},
     "output_type": "execute_result"
    }
   ],
   "source": [
    "euroUSD_data_tst.head()"
   ]
  },
  {
   "cell_type": "code",
   "execution_count": 25,
   "metadata": {},
   "outputs": [
    {
     "name": "stderr",
     "output_type": "stream",
     "text": [
      "C:\\Users\\hero144\\.conda\\envs\\py36\\lib\\site-packages\\pandas\\plotting\\_converter.py:129: FutureWarning: Using an implicitly registered datetime converter for a matplotlib plotting method. The converter was registered by pandas on import. Future versions of pandas will require you to explicitly register matplotlib converters.\n",
      "\n",
      "To register the converters:\n",
      "\t>>> from pandas.plotting import register_matplotlib_converters\n",
      "\t>>> register_matplotlib_converters()\n",
      "  warnings.warn(msg, FutureWarning)\n"
     ]
    },
    {
     "data": {
      "text/plain": [
       "[<matplotlib.lines.Line2D at 0x19c7f995898>]"
      ]
     },
     "execution_count": 25,
     "metadata": {},
     "output_type": "execute_result"
    },
    {
     "data": {
      "image/png": "[encoded data removed]",
      "text/plain": [
       "<Figure size 1008x576 with 1 Axes>"
      ]
     },
     "metadata": {
      "needs_background": "light"
     },
     "output_type": "display_data"
    }
   ],
   "source": [
    "plt.figure(figsize=(14,8))\n",
    "plt.plot(euroUSD_data_tst.timestamp, euroUSD_data_tst.close)"
   ]
  },
  {
   "cell_type": "code",
   "execution_count": 26,
   "metadata": {},
   "outputs": [],
   "source": [
    "euroUSD_data_tst['time_'] = euroUSD_data_tst.index"
   ]
  },
  {
   "cell_type": "code",
   "execution_count": 27,
   "metadata": {},
   "outputs": [],
   "source": [
    "euroUSD_data_tst = euroUSD_data_tst.drop(\"index\", axis=1)"
   ]
  },
  {
   "cell_type": "code",
   "execution_count": 28,
   "metadata": {},
   "outputs": [],
   "source": [
    "euroUSD_data_tst = euroUSD_data_tst.drop(\"time\", axis=1)"
   ]
  },
  {
   "cell_type": "code",
   "execution_count": 29,
   "metadata": {},
   "outputs": [
    {
     "data": {
      "text/html": [
       "<div>\n",
       "<style scoped>\n",
       "    .dataframe tbody tr th:only-of-type {\n",
       "        vertical-align: middle;\n",
       "    }\n",
       "\n",
       "    .dataframe tbody tr th {\n",
       "        vertical-align: top;\n",
       "    }\n",
       "\n",
       "    .dataframe thead th {\n",
       "        text-align: right;\n",
       "    }\n",
       "</style>\n",
       "<table border=\"1\" class=\"dataframe\">\n",
       "  <thead>\n",
       "    <tr style=\"text-align: right;\">\n",
       "      <th></th>\n",
       "      <th>timestamp</th>\n",
       "      <th>open</th>\n",
       "      <th>max</th>\n",
       "      <th>min</th>\n",
       "      <th>close</th>\n",
       "      <th>delta</th>\n",
       "      <th>date</th>\n",
       "      <th>time_</th>\n",
       "    </tr>\n",
       "  </thead>\n",
       "  <tbody>\n",
       "    <tr>\n",
       "      <th>0</th>\n",
       "      <td>2019-09-03 00:00:00</td>\n",
       "      <td>1.09357</td>\n",
       "      <td>1.09357</td>\n",
       "      <td>1.09345</td>\n",
       "      <td>1.09345</td>\n",
       "      <td>-0.00012</td>\n",
       "      <td>2019-09-03</td>\n",
       "      <td>0</td>\n",
       "    </tr>\n",
       "    <tr>\n",
       "      <th>1</th>\n",
       "      <td>2019-09-03 00:01:00</td>\n",
       "      <td>1.09344</td>\n",
       "      <td>1.09350</td>\n",
       "      <td>1.09338</td>\n",
       "      <td>1.09348</td>\n",
       "      <td>0.00004</td>\n",
       "      <td>2019-09-03</td>\n",
       "      <td>1</td>\n",
       "    </tr>\n",
       "    <tr>\n",
       "      <th>2</th>\n",
       "      <td>2019-09-03 00:02:00</td>\n",
       "      <td>1.09349</td>\n",
       "      <td>1.09350</td>\n",
       "      <td>1.09346</td>\n",
       "      <td>1.09348</td>\n",
       "      <td>-0.00001</td>\n",
       "      <td>2019-09-03</td>\n",
       "      <td>2</td>\n",
       "    </tr>\n",
       "    <tr>\n",
       "      <th>3</th>\n",
       "      <td>2019-09-03 00:03:00</td>\n",
       "      <td>1.09348</td>\n",
       "      <td>1.09350</td>\n",
       "      <td>1.09346</td>\n",
       "      <td>1.09348</td>\n",
       "      <td>0.00000</td>\n",
       "      <td>2019-09-03</td>\n",
       "      <td>3</td>\n",
       "    </tr>\n",
       "    <tr>\n",
       "      <th>4</th>\n",
       "      <td>2019-09-03 00:04:00</td>\n",
       "      <td>1.09349</td>\n",
       "      <td>1.09351</td>\n",
       "      <td>1.09346</td>\n",
       "      <td>1.09350</td>\n",
       "      <td>0.00001</td>\n",
       "      <td>2019-09-03</td>\n",
       "      <td>4</td>\n",
       "    </tr>\n",
       "  </tbody>\n",
       "</table>\n",
       "</div>"
      ],
      "text/plain": [
       "            timestamp     open      max      min    close    delta       date  \\\n",
       "0 2019-09-03 00:00:00  1.09357  1.09357  1.09345  1.09345 -0.00012 2019-09-03   \n",
       "1 2019-09-03 00:01:00  1.09344  1.09350  1.09338  1.09348  0.00004 2019-09-03   \n",
       "2 2019-09-03 00:02:00  1.09349  1.09350  1.09346  1.09348 -0.00001 2019-09-03   \n",
       "3 2019-09-03 00:03:00  1.09348  1.09350  1.09346  1.09348  0.00000 2019-09-03   \n",
       "4 2019-09-03 00:04:00  1.09349  1.09351  1.09346  1.09350  0.00001 2019-09-03   \n",
       "\n",
       "   time_  \n",
       "0      0  \n",
       "1      1  \n",
       "2      2  \n",
       "3      3  \n",
       "4      4  "
      ]
     },
     "execution_count": 29,
     "metadata": {},
     "output_type": "execute_result"
    }
   ],
   "source": [
    "euroUSD_data_tst.head()"
   ]
  },
  {
   "cell_type": "code",
   "execution_count": 30,
   "metadata": {},
   "outputs": [
    {
     "data": {
      "text/plain": [
       "1440"
      ]
     },
     "execution_count": 30,
     "metadata": {},
     "output_type": "execute_result"
    }
   ],
   "source": [
    "len(euroUSD_data_tst)"
   ]
  },
  {
   "cell_type": "code",
   "execution_count": 31,
   "metadata": {},
   "outputs": [],
   "source": [
    "euroUSD_data_tst_final = euroUSD_data_tst[[\"close\",\"time_\"]]"
   ]
  },
  {
   "cell_type": "code",
   "execution_count": 32,
   "metadata": {},
   "outputs": [
    {
     "data": {
      "text/html": [
       "<div>\n",
       "<style scoped>\n",
       "    .dataframe tbody tr th:only-of-type {\n",
       "        vertical-align: middle;\n",
       "    }\n",
       "\n",
       "    .dataframe tbody tr th {\n",
       "        vertical-align: top;\n",
       "    }\n",
       "\n",
       "    .dataframe thead th {\n",
       "        text-align: right;\n",
       "    }\n",
       "</style>\n",
       "<table border=\"1\" class=\"dataframe\">\n",
       "  <thead>\n",
       "    <tr style=\"text-align: right;\">\n",
       "      <th></th>\n",
       "      <th>close</th>\n",
       "      <th>time_</th>\n",
       "    </tr>\n",
       "  </thead>\n",
       "  <tbody>\n",
       "    <tr>\n",
       "      <th>0</th>\n",
       "      <td>1.09345</td>\n",
       "      <td>0</td>\n",
       "    </tr>\n",
       "    <tr>\n",
       "      <th>1</th>\n",
       "      <td>1.09348</td>\n",
       "      <td>1</td>\n",
       "    </tr>\n",
       "    <tr>\n",
       "      <th>2</th>\n",
       "      <td>1.09348</td>\n",
       "      <td>2</td>\n",
       "    </tr>\n",
       "    <tr>\n",
       "      <th>3</th>\n",
       "      <td>1.09348</td>\n",
       "      <td>3</td>\n",
       "    </tr>\n",
       "    <tr>\n",
       "      <th>4</th>\n",
       "      <td>1.09350</td>\n",
       "      <td>4</td>\n",
       "    </tr>\n",
       "  </tbody>\n",
       "</table>\n",
       "</div>"
      ],
      "text/plain": [
       "     close  time_\n",
       "0  1.09345      0\n",
       "1  1.09348      1\n",
       "2  1.09348      2\n",
       "3  1.09348      3\n",
       "4  1.09350      4"
      ]
     },
     "execution_count": 32,
     "metadata": {},
     "output_type": "execute_result"
    }
   ],
   "source": [
    "euroUSD_data_tst_final.head()"
   ]
  },
  {
   "cell_type": "code",
   "execution_count": 33,
   "metadata": {},
   "outputs": [],
   "source": [
    "series = euroUSD_data_tst_final.close.to_numpy()"
   ]
  },
  {
   "cell_type": "code",
   "execution_count": 34,
   "metadata": {},
   "outputs": [
    {
     "data": {
      "text/plain": [
       "array([1.09345, 1.09348, 1.09348, ..., 1.09762, 1.09763, 1.09757])"
      ]
     },
     "execution_count": 34,
     "metadata": {},
     "output_type": "execute_result"
    }
   ],
   "source": [
    "series"
   ]
  },
  {
   "cell_type": "code",
   "execution_count": 35,
   "metadata": {},
   "outputs": [],
   "source": [
    "time = euroUSD_data_tst_final.time_.to_numpy()"
   ]
  },
  {
   "cell_type": "code",
   "execution_count": 36,
   "metadata": {},
   "outputs": [
    {
     "data": {
      "text/plain": [
       "array([   0,    1,    2, ..., 1437, 1438, 1439], dtype=int64)"
      ]
     },
     "execution_count": 36,
     "metadata": {},
     "output_type": "execute_result"
    }
   ],
   "source": [
    "time"
   ]
  },
  {
   "cell_type": "code",
   "execution_count": null,
   "metadata": {},
   "outputs": [],
   "source": []
  },
  {
   "cell_type": "code",
   "execution_count": 37,
   "metadata": {},
   "outputs": [],
   "source": [
    "split_time = 1000\n",
    "time_train = time[:split_time]\n",
    "x_train = series[:split_time]\n",
    "time_valid = time[split_time:]\n",
    "x_valid = series[split_time:]"
   ]
  },
  {
   "cell_type": "code",
   "execution_count": 38,
   "metadata": {},
   "outputs": [
    {
     "data": {
      "text/plain": [
       "(440, 440)"
      ]
     },
     "execution_count": 38,
     "metadata": {},
     "output_type": "execute_result"
    }
   ],
   "source": [
    "len(time_valid), len(x_valid)"
   ]
  },
  {
   "cell_type": "code",
   "execution_count": 39,
   "metadata": {},
   "outputs": [],
   "source": [
    "window_size = 20\n",
    "batch_size = 32\n",
    "shuffle_buffer_size = 1000"
   ]
  },
  {
   "cell_type": "code",
   "execution_count": 40,
   "metadata": {},
   "outputs": [],
   "source": [
    "def windowed_dataset(series, window_size, batch_size, shuffle_buffer):\n",
    "    dataset = tf.data.Dataset.from_tensor_slices(series)\n",
    "    dataset = dataset.window(window_size + 1, shift=1, drop_remainder=True)\n",
    "    dataset = dataset.flat_map(lambda window: window.batch(window_size + 1))\n",
    "    dataset = dataset.shuffle(shuffle_buffer).map(lambda window: (window[:-1], window[-1]))\n",
    "    dataset = dataset.batch(batch_size).prefetch(1)\n",
    "    return dataset"
   ]
  },
  {
   "cell_type": "code",
   "execution_count": 41,
   "metadata": {},
   "outputs": [],
   "source": [
    "def plot_series(time, series, format=\"-\", start=0, end=None):\n",
    "    plt.plot(time[start:end], series[start:end], format)\n",
    "    plt.xlabel(\"Time\")\n",
    "    plt.ylabel(\"Value\")\n",
    "    plt.grid(True)"
   ]
  },
  {
   "cell_type": "code",
   "execution_count": 42,
   "metadata": {},
   "outputs": [
    {
     "name": "stderr",
     "output_type": "stream",
     "text": [
      "WARNING: Logging before flag parsing goes to stderr.\n",
      "W1113 21:48:06.258478  8144 deprecation.py:323] From C:\\Users\\hero144\\.conda\\envs\\py36\\lib\\site-packages\\tensorflow\\python\\data\\util\\random_seed.py:58: add_dispatch_support.<locals>.wrapper (from tensorflow.python.ops.array_ops) is deprecated and will be removed in a future version.\n",
      "Instructions for updating:\n",
      "Use tf.where in 2.0, which has the same broadcast rule as np.where\n"
     ]
    },
    {
     "name": "stdout",
     "output_type": "stream",
     "text": [
      "Epoch 1/20\n",
      "49/49 [==============================] - 3s 63ms/step - loss: 5.6021 - mae: 6.1021\n",
      "Epoch 2/20\n",
      "49/49 [==============================] - 1s 18ms/step - loss: 5.3538 - mae: 5.8538\n",
      "Epoch 3/20\n",
      "49/49 [==============================] - 1s 19ms/step - loss: 5.0646 - mae: 5.5646\n",
      "Epoch 4/20\n",
      "49/49 [==============================] - 1s 20ms/step - loss: 4.7384 - mae: 5.2384\n",
      "Epoch 5/20\n",
      "49/49 [==============================] - 1s 20ms/step - loss: 4.3710 - mae: 4.8710\n",
      "Epoch 6/20\n",
      "49/49 [==============================] - 1s 19ms/step - loss: 3.9574 - mae: 4.4574\n",
      "Epoch 7/20\n",
      "49/49 [==============================] - 1s 20ms/step - loss: 3.4928 - mae: 3.9928\n",
      "Epoch 8/20\n",
      "49/49 [==============================] - 1s 20ms/step - loss: 2.9721 - mae: 3.4721\n",
      "Epoch 9/20\n",
      "49/49 [==============================] - 1s 20ms/step - loss: 2.3900 - mae: 2.8900\n",
      "Epoch 10/20\n",
      "49/49 [==============================] - 1s 20ms/step - loss: 1.7420 - mae: 2.2420\n",
      "Epoch 11/20\n",
      "49/49 [==============================] - 1s 19ms/step - loss: 1.0238 - mae: 1.5238\n",
      "Epoch 12/20\n",
      "49/49 [==============================] - 1s 19ms/step - loss: 0.3131 - mae: 0.7650\n",
      "Epoch 13/20\n",
      "49/49 [==============================] - 1s 20ms/step - loss: 0.0402 - mae: 0.2688\n",
      "Epoch 14/20\n",
      "49/49 [==============================] - 1s 19ms/step - loss: 0.0036 - mae: 0.0779\n",
      "Epoch 15/20\n",
      "49/49 [==============================] - 1s 20ms/step - loss: 2.7905e-04 - mae: 0.0191\n",
      "Epoch 16/20\n",
      "49/49 [==============================] - 1s 20ms/step - loss: 8.5253e-05 - mae: 0.0113\n",
      "Epoch 17/20\n",
      "49/49 [==============================] - 1s 19ms/step - loss: 7.8517e-05 - mae: 0.0117\n",
      "Epoch 18/20\n",
      "49/49 [==============================] - 1s 20ms/step - loss: 7.8268e-05 - mae: 0.0118\n",
      "Epoch 19/20\n",
      "49/49 [==============================] - 1s 20ms/step - loss: 7.8247e-05 - mae: 0.0118\n",
      "Epoch 20/20\n",
      "49/49 [==============================] - 1s 20ms/step - loss: 7.8252e-05 - mae: 0.0118\n"
     ]
    }
   ],
   "source": [
    "tf.keras.backend.clear_session()\n",
    "tf.random.set_seed(51)\n",
    "np.random.seed(51)\n",
    "\n",
    "train_set = windowed_dataset(x_train, window_size, batch_size=20, shuffle_buffer=shuffle_buffer_size)\n",
    "\n",
    "model = tf.keras.models.Sequential([\n",
    "  tf.keras.layers.Lambda(lambda x: tf.expand_dims(x, axis=-1),\n",
    "                      input_shape=[None]),\n",
    "  tf.keras.layers.SimpleRNN(40, return_sequences=True),\n",
    "  tf.keras.layers.SimpleRNN(40),\n",
    "  tf.keras.layers.Dense(1),\n",
    "  tf.keras.layers.Lambda(lambda x: x * 10.0)\n",
    "])\n",
    "\n",
    "lr_schedule = tf.keras.callbacks.LearningRateScheduler(\n",
    "    lambda epoch: 1e-8 * 10**(epoch / 20))\n",
    "optimizer = tf.keras.optimizers.SGD(lr=1e-7, momentum=0.9)\n",
    "model.compile(loss=tf.keras.losses.Huber(),\n",
    "              optimizer=optimizer,\n",
    "              metrics=[\"mae\"])\n",
    "history = model.fit(train_set, epochs=20, callbacks=[lr_schedule])"
   ]
  },
  {
   "cell_type": "code",
   "execution_count": 43,
   "metadata": {},
   "outputs": [
    {
     "data": {
      "text/plain": [
       "[1e-08, 0.0001, 0, 30]"
      ]
     },
     "execution_count": 43,
     "metadata": {},
     "output_type": "execute_result"
    },
    {
     "data": {
      "image/png": "[encoded data removed]",
      "text/plain": [
       "<Figure size 432x288 with 1 Axes>"
      ]
     },
     "metadata": {
      "needs_background": "light"
     },
     "output_type": "display_data"
    }
   ],
   "source": [
    "plt.semilogx(history.history[\"lr\"], history.history[\"loss\"])\n",
    "plt.axis([1e-8, 1e-4, 0, 30])"
   ]
  },
  {
   "cell_type": "code",
   "execution_count": 44,
   "metadata": {},
   "outputs": [
    {
     "name": "stdout",
     "output_type": "stream",
     "text": [
      "Epoch 1/24\n",
      "49/49 [==============================] - 3s 55ms/step - loss: 51.7468 - mae: 52.2468 52.0898 -  - 2s 72ms/step - loss: 51.9594 - mae: 52. - 2s 67ms/step - loss: 51.9080 -\n",
      "Epoch 2/24\n",
      "49/49 [==============================] - 1s 20ms/step - loss: 50.3285 - mae: 50.8285\n",
      "Epoch 3/24\n",
      "49/49 [==============================] - 1s 20ms/step - loss: 48.7937 - mae: 49.2937\n",
      "Epoch 4/24\n",
      "49/49 [==============================] - 1s 19ms/step - loss: 47.1810 - mae: 47.6810\n",
      "Epoch 5/24\n",
      "49/49 [==============================] - 1s 21ms/step - loss: 45.4736 - mae: 45.9736\n",
      "Epoch 6/24\n",
      "49/49 [==============================] - 1s 21ms/step - loss: 43.6489 - mae: 44.1489\n",
      "Epoch 7/24\n",
      "49/49 [==============================] - 1s 20ms/step - loss: 41.6762 - mae: 42.1762\n",
      "Epoch 8/24\n",
      "49/49 [==============================] - 1s 21ms/step - loss: 39.5141 - mae: 40.0141\n",
      "Epoch 9/24\n",
      "49/49 [==============================] - 1s 20ms/step - loss: 37.1073 - mae: 37.6073\n",
      "Epoch 10/24\n",
      "49/49 [==============================] - 1s 21ms/step - loss: 34.3878 - mae: 34.8878\n",
      "Epoch 11/24\n",
      "49/49 [==============================] - 1s 20ms/step - loss: 31.2906 - mae: 31.7906\n",
      "Epoch 12/24\n",
      "49/49 [==============================] - 1s 21ms/step - loss: 27.8007 - mae: 28.3007\n",
      "Epoch 13/24\n",
      "49/49 [==============================] - 1s 21ms/step - loss: 24.0206 - mae: 24.5206\n",
      "Epoch 14/24\n",
      "49/49 [==============================] - 1s 21ms/step - loss: 20.1738 - mae: 20.6738\n",
      "Epoch 15/24\n",
      "49/49 [==============================] - 1s 21ms/step - loss: 16.4858 - mae: 16.9858\n",
      "Epoch 16/24\n",
      "49/49 [==============================] - 1s 21ms/step - loss: 13.0756 - mae: 13.5756\n",
      "Epoch 17/24\n",
      "49/49 [==============================] - 1s 21ms/step - loss: 9.9627 - mae: 10.4627\n",
      "Epoch 18/24\n",
      "49/49 [==============================] - 1s 21ms/step - loss: 7.1234 - mae: 7.6234\n",
      "Epoch 19/24\n",
      "49/49 [==============================] - 1s 21ms/step - loss: 4.5261 - mae: 5.0261\n",
      "Epoch 20/24\n",
      "49/49 [==============================] - 1s 21ms/step - loss: 2.1415 - mae: 2.6415\n",
      "Epoch 21/24\n",
      "49/49 [==============================] - 1s 21ms/step - loss: 0.2673 - mae: 0.5932\n",
      "Epoch 22/24\n",
      "49/49 [==============================] - 1s 21ms/step - loss: 4.9981e-04 - mae: 0.0268\n",
      "Epoch 23/24\n",
      "49/49 [==============================] - 1s 20ms/step - loss: 2.9997e-04 - mae: 0.0232\n",
      "Epoch 24/24\n",
      "49/49 [==============================] - 1s 21ms/step - loss: 2.9199e-04 - mae: 0.0227\n"
     ]
    }
   ],
   "source": [
    "tf.keras.backend.clear_session()\n",
    "tf.random.set_seed(51)\n",
    "np.random.seed(51)\n",
    "\n",
    "dataset = windowed_dataset(x_train, window_size, batch_size=20, shuffle_buffer=shuffle_buffer_size)\n",
    "\n",
    "model = tf.keras.models.Sequential([\n",
    "  tf.keras.layers.Lambda(lambda x: tf.expand_dims(x, axis=-1),\n",
    "                      input_shape=[None]),\n",
    "  tf.keras.layers.SimpleRNN(20, return_sequences=True),\n",
    "  tf.keras.layers.SimpleRNN(20),\n",
    "  tf.keras.layers.Dense(1),\n",
    "  tf.keras.layers.Lambda(lambda x: x * 50.0)\n",
    "])\n",
    "\n",
    "optimizer = tf.keras.optimizers.SGD(lr=5e-8, momentum=0.9)\n",
    "model.compile(loss=tf.keras.losses.Huber(),\n",
    "              optimizer=optimizer,\n",
    "              metrics=[\"mae\"])\n",
    "history = model.fit(dataset,epochs=24)"
   ]
  },
  {
   "cell_type": "code",
   "execution_count": 45,
   "metadata": {},
   "outputs": [
    {
     "data": {
      "image/png": "[encoded data removed]",
      "text/plain": [
       "<Figure size 720x432 with 1 Axes>"
      ]
     },
     "metadata": {
      "needs_background": "light"
     },
     "output_type": "display_data"
    }
   ],
   "source": [
    "forecast=[]\n",
    "for time in range(len(series) - window_size):\n",
    "  forecast.append(model.predict(series[time:time + window_size][np.newaxis]))\n",
    "\n",
    "forecast = forecast[split_time-window_size:]\n",
    "results = np.array(forecast)[:, 0, 0]\n",
    "\n",
    "\n",
    "plt.figure(figsize=(10, 6))\n",
    "\n",
    "plot_series(time_valid, x_valid)\n",
    "plot_series(time_valid, results)"
   ]
  },
  {
   "cell_type": "code",
   "execution_count": 46,
   "metadata": {},
   "outputs": [
    {
     "data": {
      "image/png": "[encoded data removed]",
      "text/plain": [
       "<Figure size 432x288 with 1 Axes>"
      ]
     },
     "metadata": {
      "needs_background": "light"
     },
     "output_type": "display_data"
    }
   ],
   "source": [
    "\n",
    "plot_series(time_valid, results)"
   ]
  },
  {
   "cell_type": "code",
   "execution_count": 47,
   "metadata": {},
   "outputs": [
    {
     "data": {
      "image/png": "[encoded data removed]",
      "text/plain": [
       "<Figure size 432x288 with 1 Axes>"
      ]
     },
     "metadata": {
      "needs_background": "light"
     },
     "output_type": "display_data"
    }
   ],
   "source": [
    "plot_series(time_valid, x_valid)"
   ]
  },
  {
   "cell_type": "code",
   "execution_count": 48,
   "metadata": {},
   "outputs": [
    {
     "data": {
      "text/plain": [
       "array([1.097  , 1.09703, 1.09707, 1.09711, 1.09724, 1.09722, 1.09743,\n",
       "       1.09737, 1.09735, 1.09741, 1.0974 , 1.09741, 1.0974 , 1.09742,\n",
       "       1.09745, 1.09736, 1.09754, 1.09749, 1.09733, 1.09726, 1.09726,\n",
       "       1.09724, 1.09723, 1.09732, 1.09736, 1.09732, 1.09737, 1.0974 ,\n",
       "       1.09738, 1.09728, 1.0973 , 1.09724, 1.09752, 1.09728, 1.09729,\n",
       "       1.09735, 1.09761, 1.09766, 1.09776, 1.09768, 1.09766, 1.0976 ,\n",
       "       1.0976 , 1.09758, 1.0975 , 1.09754, 1.0976 , 1.09751, 1.09748,\n",
       "       1.09739, 1.09725, 1.09728, 1.09727, 1.09724, 1.09715, 1.09721,\n",
       "       1.09721, 1.09715, 1.09711, 1.09716, 1.09715, 1.09716, 1.09715,\n",
       "       1.09716, 1.09721, 1.09731, 1.09742, 1.09729, 1.09717, 1.09719,\n",
       "       1.09719, 1.0972 , 1.09724, 1.09726, 1.09725, 1.09726, 1.09725,\n",
       "       1.09725, 1.09719, 1.09712, 1.09716, 1.09724, 1.09717, 1.09726,\n",
       "       1.09721, 1.09713, 1.09711, 1.0971 , 1.09711, 1.0971 , 1.09705,\n",
       "       1.09702, 1.09698, 1.09701, 1.09706, 1.09709, 1.09704, 1.097  ,\n",
       "       1.09695, 1.09691, 1.09693, 1.09696, 1.09697, 1.09697, 1.09702,\n",
       "       1.09707, 1.09707, 1.09702, 1.09703, 1.09703, 1.09701, 1.09696,\n",
       "       1.09691, 1.09695, 1.09687, 1.09689, 1.09692, 1.09698, 1.09693,\n",
       "       1.09693, 1.0969 , 1.09689, 1.09687, 1.09689, 1.09689, 1.09689,\n",
       "       1.09697, 1.09693, 1.09694, 1.09696, 1.09698, 1.09696, 1.09698,\n",
       "       1.09698, 1.09697, 1.09699, 1.09697, 1.09697, 1.09712, 1.09711,\n",
       "       1.09717, 1.09711, 1.09712, 1.09708, 1.09707, 1.09701, 1.09702,\n",
       "       1.097  , 1.09701, 1.09701, 1.097  , 1.09698, 1.09701, 1.09701,\n",
       "       1.0971 , 1.09707, 1.09707, 1.09706, 1.09705, 1.09705, 1.09707,\n",
       "       1.09705, 1.09705, 1.097  , 1.09691, 1.09691, 1.09687, 1.09693,\n",
       "       1.09691, 1.09691, 1.09697, 1.09702, 1.09707, 1.09702, 1.09703,\n",
       "       1.09707, 1.09713, 1.09711, 1.09712, 1.09713, 1.09713, 1.0971 ,\n",
       "       1.09713, 1.09708, 1.09707, 1.09707, 1.09707, 1.09707, 1.09706,\n",
       "       1.09707, 1.09708, 1.09709, 1.09718, 1.09728, 1.09728, 1.09731,\n",
       "       1.09729, 1.09728, 1.09728, 1.09725, 1.09734, 1.09747, 1.09738,\n",
       "       1.09737, 1.09734, 1.09748, 1.09752, 1.09762, 1.09769, 1.09764,\n",
       "       1.09771, 1.09772, 1.09789, 1.09786, 1.09779, 1.09757, 1.09767,\n",
       "       1.09766, 1.09774, 1.09784, 1.09778, 1.09773, 1.09772, 1.09766,\n",
       "       1.09766, 1.09768, 1.09767, 1.09761, 1.09758, 1.09755, 1.09755,\n",
       "       1.09752, 1.09748, 1.09748, 1.09731, 1.09741, 1.09743, 1.09741,\n",
       "       1.09744, 1.09736, 1.09736, 1.09739, 1.09739, 1.09736, 1.0972 ,\n",
       "       1.0972 , 1.09722, 1.09721, 1.09731, 1.09721, 1.09727, 1.09727,\n",
       "       1.09731, 1.09729, 1.0976 , 1.09733, 1.09728, 1.09729, 1.09737,\n",
       "       1.09741, 1.09758, 1.09754, 1.09757, 1.09748, 1.09743, 1.09752,\n",
       "       1.09746, 1.09751, 1.09756, 1.09753, 1.0976 , 1.09757, 1.09758,\n",
       "       1.09759, 1.09757, 1.09758, 1.09764, 1.09771, 1.09773, 1.09795,\n",
       "       1.0978 , 1.09778, 1.09776, 1.09783, 1.09777, 1.09767, 1.09768,\n",
       "       1.09771, 1.09772, 1.0977 , 1.09784, 1.0977 , 1.09782, 1.09778,\n",
       "       1.09779, 1.09775, 1.09784, 1.09777, 1.0978 , 1.09782, 1.09788,\n",
       "       1.09788, 1.0978 , 1.09775, 1.09782, 1.09774, 1.09777, 1.09768,\n",
       "       1.09767, 1.09767, 1.09762, 1.09764, 1.09766, 1.09766, 1.09761,\n",
       "       1.0976 , 1.09751, 1.09749, 1.09746, 1.0974 , 1.0974 , 1.09736,\n",
       "       1.09735, 1.0973 , 1.09724, 1.09731, 1.09738, 1.09737, 1.09736,\n",
       "       1.09732, 1.09732, 1.09732, 1.09731, 1.0973 , 1.09736, 1.09732,\n",
       "       1.09742, 1.09742, 1.09742, 1.09738, 1.09738, 1.09739, 1.09737,\n",
       "       1.09738, 1.09735, 1.09731, 1.09731, 1.09734, 1.09732, 1.09736,\n",
       "       1.09738, 1.09739, 1.09745, 1.09742, 1.09743, 1.09742, 1.09748,\n",
       "       1.09747, 1.09748, 1.09744, 1.09744, 1.09746, 1.09747, 1.09747,\n",
       "       1.09753, 1.09748, 1.09744, 1.09745, 1.09747, 1.09751, 1.09749,\n",
       "       1.09748, 1.09753, 1.09748, 1.09739, 1.0974 , 1.09742, 1.09741,\n",
       "       1.09747, 1.09749, 1.09751, 1.09757, 1.09756, 1.09761, 1.09761,\n",
       "       1.09761, 1.09762, 1.09759, 1.09758, 1.09759, 1.09762, 1.0976 ,\n",
       "       1.09759, 1.09761, 1.0976 , 1.09753, 1.09753, 1.09752, 1.09751,\n",
       "       1.09762, 1.09761, 1.09762, 1.09758, 1.09752, 1.09759, 1.09757,\n",
       "       1.09758, 1.09757, 1.09753, 1.09752, 1.09752, 1.09752, 1.09758,\n",
       "       1.09754, 1.09752, 1.09753, 1.09752, 1.09748, 1.09747, 1.0974 ,\n",
       "       1.09726, 1.09727, 1.09733, 1.09731, 1.09732, 1.09733, 1.09736,\n",
       "       1.09747, 1.09749, 1.09747, 1.09749, 1.09751, 1.0976 , 1.09761,\n",
       "       1.09762, 1.09758, 1.09759, 1.09762, 1.09763, 1.09757])"
      ]
     },
     "execution_count": 48,
     "metadata": {},
     "output_type": "execute_result"
    }
   ],
   "source": [
    "x_valid"
   ]
  },
  {
   "cell_type": "code",
   "execution_count": 49,
   "metadata": {},
   "outputs": [],
   "source": [
    "results = -results"
   ]
  },
  {
   "cell_type": "code",
   "execution_count": 50,
   "metadata": {},
   "outputs": [
    {
     "data": {
      "text/plain": [
       "array([-1.0695747, -1.0674921, -1.0667907, -1.0661044, -1.0655832,\n",
       "       -1.0644466, -1.0651721, -1.0620998, -1.0634274, -1.0627542,\n",
       "       -1.0594907, -1.0602334, -1.0598925, -1.0586303, -1.059916 ,\n",
       "       -1.0585989, -1.0597292, -1.0580322, -1.0590582, -1.0613812,\n",
       "       -1.0587857, -1.0585686, -1.060449 , -1.0601798, -1.0616405,\n",
       "       -1.0621876, -1.0622889, -1.0617034, -1.06124  , -1.0616448,\n",
       "       -1.0615337, -1.0602114, -1.060961 , -1.0580566, -1.0634171,\n",
       "       -1.0619234, -1.058805 , -1.058663 , -1.0604135, -1.0591319,\n",
       "       -1.0605105, -1.0563438, -1.0553576, -1.0551832, -1.055126 ,\n",
       "       -1.0563031, -1.0555112, -1.0552589, -1.058145 , -1.0575497,\n",
       "       -1.0581031, -1.0595349, -1.0573632, -1.0597086, -1.0620714,\n",
       "       -1.0622381, -1.0621372, -1.0628297, -1.0636706, -1.0642203,\n",
       "       -1.063147 , -1.0641221, -1.064004 , -1.0643535, -1.0644522,\n",
       "       -1.0633816, -1.0628934, -1.0629421, -1.0642681, -1.0632124,\n",
       "       -1.060438 , -1.0610908, -1.0618392, -1.061978 , -1.0632753,\n",
       "       -1.0626543, -1.0620742, -1.0628374, -1.062298 , -1.0627129,\n",
       "       -1.0629495, -1.0616814, -1.0620767, -1.0643858, -1.0627465,\n",
       "       -1.0637438, -1.064096 , -1.0622809, -1.063256 , -1.0638275,\n",
       "       -1.0635253, -1.0654182, -1.0647568, -1.0647634, -1.0652692,\n",
       "       -1.0650296, -1.066103 , -1.0667859, -1.0660082, -1.0660913,\n",
       "       -1.0659212, -1.0657313, -1.0664674, -1.0670898, -1.0670847,\n",
       "       -1.0667294, -1.0666002, -1.0668191, -1.0668625, -1.0655758,\n",
       "       -1.06527  , -1.0655793, -1.0659434, -1.0662005, -1.0654188,\n",
       "       -1.0668005, -1.0668072, -1.0667164, -1.0674387, -1.0683535,\n",
       "       -1.0676606, -1.067946 , -1.0672935, -1.0675249, -1.067568 ,\n",
       "       -1.0678779, -1.0679277, -1.0672857, -1.0683976, -1.0678663,\n",
       "       -1.0669552, -1.0672742, -1.0672122, -1.0664676, -1.0670168,\n",
       "       -1.066576 , -1.0662224, -1.0667193, -1.0663984, -1.0648288,\n",
       "       -1.0666444, -1.0658445, -1.0656102, -1.064988 , -1.06407  ,\n",
       "       -1.0639393, -1.0649543, -1.063901 , -1.0650194, -1.0651218,\n",
       "       -1.0654572, -1.0662493, -1.0662699, -1.0657657, -1.066423 ,\n",
       "       -1.0655878, -1.0666517, -1.066429 , -1.065346 , -1.0653613,\n",
       "       -1.0650675, -1.064644 , -1.0656592, -1.0649879, -1.0654198,\n",
       "       -1.0662093, -1.0651187, -1.0663083, -1.0663893, -1.0672662,\n",
       "       -1.0682116, -1.0672052, -1.0673299, -1.0676876, -1.0674694,\n",
       "       -1.0667753, -1.0653502, -1.0649728, -1.065844 , -1.0649605,\n",
       "       -1.0645208, -1.0641037, -1.0640917, -1.063684 , -1.064478 ,\n",
       "       -1.0641104, -1.0639585, -1.0645809, -1.0647652, -1.0649871,\n",
       "       -1.0652548, -1.0648655, -1.0651089, -1.0644583, -1.0641514,\n",
       "       -1.0650333, -1.063573 , -1.0629331, -1.0622916, -1.0610813,\n",
       "       -1.0616189, -1.0605752, -1.0597632, -1.0625535, -1.0608236,\n",
       "       -1.0598698, -1.0589055, -1.0589446, -1.0593297, -1.0589402,\n",
       "       -1.0584651, -1.056542 , -1.0555408, -1.054412 , -1.054965 ,\n",
       "       -1.0549926, -1.0548899, -1.051062 , -1.0530729, -1.0539087,\n",
       "       -1.0542139, -1.0561507, -1.0551751, -1.0532988, -1.0552305,\n",
       "       -1.0541558, -1.0542659, -1.0559018, -1.0554793, -1.0558172,\n",
       "       -1.0563779, -1.0560448, -1.0571119, -1.0576105, -1.0573782,\n",
       "       -1.059652 , -1.0576143, -1.0586398, -1.060908 , -1.0595644,\n",
       "       -1.0607986, -1.0605222, -1.0586305, -1.060921 , -1.060862 ,\n",
       "       -1.0613644, -1.0607717, -1.0598122, -1.0621247, -1.0617999,\n",
       "       -1.0636536, -1.0628775, -1.0615978, -1.062645 , -1.0627323,\n",
       "       -1.0590626, -1.0648879, -1.061379 , -1.0585753, -1.0600034,\n",
       "       -1.0597321, -1.0588259, -1.0622904, -1.058539 , -1.0588242,\n",
       "       -1.0588865, -1.0559812, -1.0585325, -1.0581998, -1.0568688,\n",
       "       -1.0592722, -1.057236 , -1.057666 , -1.0584983, -1.056119 ,\n",
       "       -1.0573268, -1.0571384, -1.0557224, -1.0569072, -1.0565346,\n",
       "       -1.0541039, -1.0571486, -1.0546836, -1.0526247, -1.0527753,\n",
       "       -1.0533458, -1.0538806, -1.0538142, -1.0525953, -1.054331 ,\n",
       "       -1.0551083, -1.0538393, -1.0565833, -1.0535543, -1.0543147,\n",
       "       -1.055132 , -1.0538955, -1.0530474, -1.0550213, -1.052741 ,\n",
       "       -1.0534868, -1.0532496, -1.0531368, -1.053973 , -1.053264 ,\n",
       "       -1.0515167, -1.0538489, -1.0531733, -1.0542006, -1.0545478,\n",
       "       -1.0536038, -1.0553321, -1.0555953, -1.0550762, -1.0566607,\n",
       "       -1.0565095, -1.0561442, -1.0573901, -1.0563836, -1.0571072,\n",
       "       -1.0583109, -1.057966 , -1.0591441, -1.0598918, -1.0601342,\n",
       "       -1.061268 , -1.0602787, -1.0606402, -1.0625273, -1.0617914,\n",
       "       -1.0617741, -1.0611235, -1.0603116, -1.0612788, -1.06125  ,\n",
       "       -1.060314 , -1.0616822, -1.0601591, -1.0608474, -1.0612583,\n",
       "       -1.0602641, -1.059793 , -1.0596476, -1.0595576, -1.06016  ,\n",
       "       -1.0602137, -1.0603607, -1.0600556, -1.0600325, -1.0612186,\n",
       "       -1.0606294, -1.0609194, -1.061153 , -1.0600913, -1.0609206,\n",
       "       -1.0603439, -1.0594077, -1.0591173, -1.0592874, -1.0590518,\n",
       "       -1.0594124, -1.0585028, -1.0582979, -1.0586319, -1.0589545,\n",
       "       -1.0582726, -1.0593055, -1.0589901, -1.0580188, -1.0584582,\n",
       "       -1.0583827, -1.0589032, -1.0592121, -1.0577979, -1.0588503,\n",
       "       -1.0594234, -1.0578277, -1.0584925, -1.0591956, -1.0586678,\n",
       "       -1.0598831, -1.0595601, -1.0583748, -1.0592257, -1.0579587,\n",
       "       -1.0574688, -1.0576693, -1.056508 , -1.0567013, -1.0566274,\n",
       "       -1.055754 , -1.0562962, -1.0566443, -1.0564822, -1.0564492,\n",
       "       -1.0565552, -1.0572853, -1.05665  , -1.0568974, -1.0574186,\n",
       "       -1.0563972, -1.0581363, -1.0580852, -1.057258 , -1.0577632,\n",
       "       -1.0559027, -1.056731 , -1.0577183, -1.0567927, -1.0576864,\n",
       "       -1.0571675, -1.0566798, -1.0580087, -1.0569835, -1.0581709,\n",
       "       -1.0583583, -1.0571005, -1.0580125, -1.058258 , -1.0576909,\n",
       "       -1.0589564, -1.0593836, -1.0583506, -1.0591545, -1.0611677,\n",
       "       -1.0613557, -1.0616492, -1.0615602, -1.0601481, -1.0614266,\n",
       "       -1.0615253, -1.0594251, -1.0590608, -1.057813 , -1.0580256,\n",
       "       -1.0583177, -1.0572479, -1.056282 , -1.0558666, -1.055987 ],\n",
       "      dtype=float32)"
      ]
     },
     "execution_count": 50,
     "metadata": {},
     "output_type": "execute_result"
    }
   ],
   "source": [
    "results"
   ]
  },
  {
   "cell_type": "code",
   "execution_count": 51,
   "metadata": {},
   "outputs": [
    {
     "data": {
      "image/png": "[encoded data removed]",
      "text/plain": [
       "<Figure size 432x288 with 1 Axes>"
      ]
     },
     "metadata": {
      "needs_background": "light"
     },
     "output_type": "display_data"
    }
   ],
   "source": [
    "plot_series(time_valid, results)"
   ]
  },
  {
   "cell_type": "markdown",
   "metadata": {},
   "source": [
    "### Join main table and sample to get real timestamp values"
   ]
  },
  {
   "cell_type": "code",
   "execution_count": 61,
   "metadata": {},
   "outputs": [],
   "source": [
    "time_valid_df = pd.DataFrame(time_valid, columns=['value'])"
   ]
  },
  {
   "cell_type": "code",
   "execution_count": 66,
   "metadata": {},
   "outputs": [],
   "source": [
    "final_timestamp = pd.merge(right=euroUSD_data_tst, left=time_valid_df, how='left', left_on='value',right_on='time_')"
   ]
  },
  {
   "cell_type": "code",
   "execution_count": 69,
   "metadata": {},
   "outputs": [],
   "source": [
    "final_timestamp = final_timestamp['timestamp']"
   ]
  },
  {
   "cell_type": "code",
   "execution_count": 70,
   "metadata": {},
   "outputs": [
    {
     "data": {
      "text/plain": [
       "[<matplotlib.lines.Line2D at 0x19c08aa94a8>]"
      ]
     },
     "execution_count": 70,
     "metadata": {},
     "output_type": "execute_result"
    },
    {
     "data": {
      "image/png": "[encoded data removed]",
      "text/plain": [
       "<Figure size 720x720 with 2 Axes>"
      ]
     },
     "metadata": {
      "needs_background": "light"
     },
     "output_type": "display_data"
    }
   ],
   "source": [
    "fig, axs = plt.subplots(2,figsize=(10,10))\n",
    "axs[0].plot(final_timestamp, x_valid)\n",
    "axs[1].plot(final_timestamp, results)"
   ]
  },
  {
   "cell_type": "code",
   "execution_count": null,
   "metadata": {},
   "outputs": [],
   "source": []
  },
  {
   "cell_type": "code",
   "execution_count": null,
   "metadata": {},
   "outputs": [],
   "source": []
  },
  {
   "cell_type": "code",
   "execution_count": null,
   "metadata": {},
   "outputs": [],
   "source": []
  },
  {
   "cell_type": "code",
   "execution_count": null,
   "metadata": {},
   "outputs": [],
   "source": []
  },
  {
   "cell_type": "code",
   "execution_count": null,
   "metadata": {},
   "outputs": [],
   "source": []
  },
  {
   "cell_type": "code",
   "execution_count": null,
   "metadata": {},
   "outputs": [],
   "source": []
  },
  {
   "cell_type": "code",
   "execution_count": null,
   "metadata": {},
   "outputs": [],
   "source": []
  }
 ],
 "metadata": {
  "kernelspec": {
   "display_name": "Python 3",
   "language": "python",
   "name": "python3"
  },
  "language_info": {
   "codemirror_mode": {
    "name": "ipython",
    "version": 3
   },
   "file_extension": ".py",
   "mimetype": "text/x-python",
   "name": "python",
   "nbconvert_exporter": "python",
   "pygments_lexer": "ipython3",
   "version": "3.6.8"
  }
 },
 "nbformat": 4,
 "nbformat_minor": 2
}

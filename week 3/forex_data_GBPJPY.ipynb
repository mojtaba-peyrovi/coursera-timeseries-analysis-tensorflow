{
 "cells": [
  {
   "cell_type": "code",
   "execution_count": 1,
   "metadata": {},
   "outputs": [
    {
     "name": "stdout",
     "output_type": "stream",
     "text": [
      "2.0.0-beta1\n"
     ]
    }
   ],
   "source": [
    "import tensorflow as tf\n",
    "import numpy as np\n",
    "import matplotlib.pyplot as plt\n",
    "from datetime import datetime\n",
    "import pandas as pd\n",
    "print(tf.__version__)"
   ]
  },
  {
   "cell_type": "code",
   "execution_count": 2,
   "metadata": {},
   "outputs": [],
   "source": [
    "gbpJpy_data = pd.read_excel(\"DAT_XLSX_GBPJPY_M1_201911.xlsx\", names=[\"timestamp\",\"open\",\"max\",\"min\",\"close\",\"else\"])"
   ]
  },
  {
   "cell_type": "code",
   "execution_count": 4,
   "metadata": {},
   "outputs": [
    {
     "data": {
      "text/html": [
       "<div>\n",
       "<style scoped>\n",
       "    .dataframe tbody tr th:only-of-type {\n",
       "        vertical-align: middle;\n",
       "    }\n",
       "\n",
       "    .dataframe tbody tr th {\n",
       "        vertical-align: top;\n",
       "    }\n",
       "\n",
       "    .dataframe thead th {\n",
       "        text-align: right;\n",
       "    }\n",
       "</style>\n",
       "<table border=\"1\" class=\"dataframe\">\n",
       "  <thead>\n",
       "    <tr style=\"text-align: right;\">\n",
       "      <th></th>\n",
       "      <th>timestamp</th>\n",
       "      <th>open</th>\n",
       "      <th>max</th>\n",
       "      <th>min</th>\n",
       "      <th>close</th>\n",
       "      <th>else</th>\n",
       "    </tr>\n",
       "  </thead>\n",
       "  <tbody>\n",
       "    <tr>\n",
       "      <th>0</th>\n",
       "      <td>2019-11-01 00:01:00</td>\n",
       "      <td>139.986</td>\n",
       "      <td>139.987</td>\n",
       "      <td>139.985</td>\n",
       "      <td>139.987</td>\n",
       "      <td>0</td>\n",
       "    </tr>\n",
       "    <tr>\n",
       "      <th>1</th>\n",
       "      <td>2019-11-01 00:02:00</td>\n",
       "      <td>139.988</td>\n",
       "      <td>139.999</td>\n",
       "      <td>139.986</td>\n",
       "      <td>139.993</td>\n",
       "      <td>0</td>\n",
       "    </tr>\n",
       "    <tr>\n",
       "      <th>2</th>\n",
       "      <td>2019-11-01 00:03:00</td>\n",
       "      <td>139.991</td>\n",
       "      <td>139.996</td>\n",
       "      <td>139.990</td>\n",
       "      <td>139.993</td>\n",
       "      <td>0</td>\n",
       "    </tr>\n",
       "    <tr>\n",
       "      <th>3</th>\n",
       "      <td>2019-11-01 00:04:00</td>\n",
       "      <td>139.994</td>\n",
       "      <td>139.998</td>\n",
       "      <td>139.992</td>\n",
       "      <td>139.994</td>\n",
       "      <td>0</td>\n",
       "    </tr>\n",
       "    <tr>\n",
       "      <th>4</th>\n",
       "      <td>2019-11-01 00:05:00</td>\n",
       "      <td>139.995</td>\n",
       "      <td>140.001</td>\n",
       "      <td>139.992</td>\n",
       "      <td>139.992</td>\n",
       "      <td>0</td>\n",
       "    </tr>\n",
       "  </tbody>\n",
       "</table>\n",
       "</div>"
      ],
      "text/plain": [
       "            timestamp     open      max      min    close  else\n",
       "0 2019-11-01 00:01:00  139.986  139.987  139.985  139.987     0\n",
       "1 2019-11-01 00:02:00  139.988  139.999  139.986  139.993     0\n",
       "2 2019-11-01 00:03:00  139.991  139.996  139.990  139.993     0\n",
       "3 2019-11-01 00:04:00  139.994  139.998  139.992  139.994     0\n",
       "4 2019-11-01 00:05:00  139.995  140.001  139.992  139.992     0"
      ]
     },
     "execution_count": 4,
     "metadata": {},
     "output_type": "execute_result"
    }
   ],
   "source": [
    "gbpJpy_data.head()"
   ]
  },
  {
   "cell_type": "code",
   "execution_count": 5,
   "metadata": {},
   "outputs": [],
   "source": [
    "gbpJpy_data = gbpJpy_data.drop(\"else\", axis=1)"
   ]
  },
  {
   "cell_type": "code",
   "execution_count": 6,
   "metadata": {},
   "outputs": [
    {
     "data": {
      "text/html": [
       "<div>\n",
       "<style scoped>\n",
       "    .dataframe tbody tr th:only-of-type {\n",
       "        vertical-align: middle;\n",
       "    }\n",
       "\n",
       "    .dataframe tbody tr th {\n",
       "        vertical-align: top;\n",
       "    }\n",
       "\n",
       "    .dataframe thead th {\n",
       "        text-align: right;\n",
       "    }\n",
       "</style>\n",
       "<table border=\"1\" class=\"dataframe\">\n",
       "  <thead>\n",
       "    <tr style=\"text-align: right;\">\n",
       "      <th></th>\n",
       "      <th>timestamp</th>\n",
       "      <th>open</th>\n",
       "      <th>max</th>\n",
       "      <th>min</th>\n",
       "      <th>close</th>\n",
       "    </tr>\n",
       "  </thead>\n",
       "  <tbody>\n",
       "    <tr>\n",
       "      <th>8146</th>\n",
       "      <td>2019-11-08 16:54:00</td>\n",
       "      <td>139.563</td>\n",
       "      <td>139.619</td>\n",
       "      <td>139.563</td>\n",
       "      <td>139.594</td>\n",
       "    </tr>\n",
       "    <tr>\n",
       "      <th>8147</th>\n",
       "      <td>2019-11-08 16:55:00</td>\n",
       "      <td>139.584</td>\n",
       "      <td>139.595</td>\n",
       "      <td>139.566</td>\n",
       "      <td>139.588</td>\n",
       "    </tr>\n",
       "    <tr>\n",
       "      <th>8148</th>\n",
       "      <td>2019-11-08 16:56:00</td>\n",
       "      <td>139.590</td>\n",
       "      <td>139.590</td>\n",
       "      <td>139.571</td>\n",
       "      <td>139.579</td>\n",
       "    </tr>\n",
       "    <tr>\n",
       "      <th>8149</th>\n",
       "      <td>2019-11-08 16:57:00</td>\n",
       "      <td>139.573</td>\n",
       "      <td>139.573</td>\n",
       "      <td>139.548</td>\n",
       "      <td>139.552</td>\n",
       "    </tr>\n",
       "    <tr>\n",
       "      <th>8150</th>\n",
       "      <td>2019-11-08 16:58:00</td>\n",
       "      <td>139.551</td>\n",
       "      <td>139.571</td>\n",
       "      <td>139.504</td>\n",
       "      <td>139.557</td>\n",
       "    </tr>\n",
       "  </tbody>\n",
       "</table>\n",
       "</div>"
      ],
      "text/plain": [
       "               timestamp     open      max      min    close\n",
       "8146 2019-11-08 16:54:00  139.563  139.619  139.563  139.594\n",
       "8147 2019-11-08 16:55:00  139.584  139.595  139.566  139.588\n",
       "8148 2019-11-08 16:56:00  139.590  139.590  139.571  139.579\n",
       "8149 2019-11-08 16:57:00  139.573  139.573  139.548  139.552\n",
       "8150 2019-11-08 16:58:00  139.551  139.571  139.504  139.557"
      ]
     },
     "execution_count": 6,
     "metadata": {},
     "output_type": "execute_result"
    }
   ],
   "source": [
    "gbpJpy_data.tail()"
   ]
  },
  {
   "cell_type": "code",
   "execution_count": 8,
   "metadata": {},
   "outputs": [],
   "source": [
    "# gbpJpy_data['delta'] = gbpJpy_data['close']-gbpJpy_data['open']"
   ]
  },
  {
   "cell_type": "code",
   "execution_count": null,
   "metadata": {},
   "outputs": [],
   "source": []
  },
  {
   "cell_type": "code",
   "execution_count": 9,
   "metadata": {},
   "outputs": [
    {
     "data": {
      "text/html": [
       "<div>\n",
       "<style scoped>\n",
       "    .dataframe tbody tr th:only-of-type {\n",
       "        vertical-align: middle;\n",
       "    }\n",
       "\n",
       "    .dataframe tbody tr th {\n",
       "        vertical-align: top;\n",
       "    }\n",
       "\n",
       "    .dataframe thead th {\n",
       "        text-align: right;\n",
       "    }\n",
       "</style>\n",
       "<table border=\"1\" class=\"dataframe\">\n",
       "  <thead>\n",
       "    <tr style=\"text-align: right;\">\n",
       "      <th></th>\n",
       "      <th>timestamp</th>\n",
       "      <th>open</th>\n",
       "      <th>max</th>\n",
       "      <th>min</th>\n",
       "      <th>close</th>\n",
       "      <th>delta</th>\n",
       "    </tr>\n",
       "  </thead>\n",
       "  <tbody>\n",
       "    <tr>\n",
       "      <th>0</th>\n",
       "      <td>2019-11-01 00:01:00</td>\n",
       "      <td>139.986</td>\n",
       "      <td>139.987</td>\n",
       "      <td>139.985</td>\n",
       "      <td>139.987</td>\n",
       "      <td>0.001</td>\n",
       "    </tr>\n",
       "    <tr>\n",
       "      <th>1</th>\n",
       "      <td>2019-11-01 00:02:00</td>\n",
       "      <td>139.988</td>\n",
       "      <td>139.999</td>\n",
       "      <td>139.986</td>\n",
       "      <td>139.993</td>\n",
       "      <td>0.005</td>\n",
       "    </tr>\n",
       "    <tr>\n",
       "      <th>2</th>\n",
       "      <td>2019-11-01 00:03:00</td>\n",
       "      <td>139.991</td>\n",
       "      <td>139.996</td>\n",
       "      <td>139.990</td>\n",
       "      <td>139.993</td>\n",
       "      <td>0.002</td>\n",
       "    </tr>\n",
       "    <tr>\n",
       "      <th>3</th>\n",
       "      <td>2019-11-01 00:04:00</td>\n",
       "      <td>139.994</td>\n",
       "      <td>139.998</td>\n",
       "      <td>139.992</td>\n",
       "      <td>139.994</td>\n",
       "      <td>0.000</td>\n",
       "    </tr>\n",
       "    <tr>\n",
       "      <th>4</th>\n",
       "      <td>2019-11-01 00:05:00</td>\n",
       "      <td>139.995</td>\n",
       "      <td>140.001</td>\n",
       "      <td>139.992</td>\n",
       "      <td>139.992</td>\n",
       "      <td>-0.003</td>\n",
       "    </tr>\n",
       "  </tbody>\n",
       "</table>\n",
       "</div>"
      ],
      "text/plain": [
       "            timestamp     open      max      min    close  delta\n",
       "0 2019-11-01 00:01:00  139.986  139.987  139.985  139.987  0.001\n",
       "1 2019-11-01 00:02:00  139.988  139.999  139.986  139.993  0.005\n",
       "2 2019-11-01 00:03:00  139.991  139.996  139.990  139.993  0.002\n",
       "3 2019-11-01 00:04:00  139.994  139.998  139.992  139.994  0.000\n",
       "4 2019-11-01 00:05:00  139.995  140.001  139.992  139.992 -0.003"
      ]
     },
     "execution_count": 9,
     "metadata": {},
     "output_type": "execute_result"
    }
   ],
   "source": [
    "gbpJpy_data.head()"
   ]
  },
  {
   "cell_type": "markdown",
   "metadata": {},
   "source": [
    "### Create date & time from timestamp"
   ]
  },
  {
   "cell_type": "code",
   "execution_count": 10,
   "metadata": {},
   "outputs": [],
   "source": [
    "gbpJpy_data['date'] = [d.date() for d in gbpJpy_data['timestamp']]\n",
    "gbpJpy_data['time'] = [d.time() for d in gbpJpy_data['timestamp']]"
   ]
  },
  {
   "cell_type": "code",
   "execution_count": 14,
   "metadata": {},
   "outputs": [],
   "source": [
    "# euroUSD_data['date'] = euroUSD_data.timestamp.apply(lambda x: x.date())\n",
    "# euroUSD_data['time'] = euroUSD_data.timestamp.apply(lambda x: x.time())"
   ]
  },
  {
   "cell_type": "code",
   "execution_count": 11,
   "metadata": {},
   "outputs": [
    {
     "data": {
      "text/html": [
       "<div>\n",
       "<style scoped>\n",
       "    .dataframe tbody tr th:only-of-type {\n",
       "        vertical-align: middle;\n",
       "    }\n",
       "\n",
       "    .dataframe tbody tr th {\n",
       "        vertical-align: top;\n",
       "    }\n",
       "\n",
       "    .dataframe thead th {\n",
       "        text-align: right;\n",
       "    }\n",
       "</style>\n",
       "<table border=\"1\" class=\"dataframe\">\n",
       "  <thead>\n",
       "    <tr style=\"text-align: right;\">\n",
       "      <th></th>\n",
       "      <th>timestamp</th>\n",
       "      <th>open</th>\n",
       "      <th>max</th>\n",
       "      <th>min</th>\n",
       "      <th>close</th>\n",
       "      <th>delta</th>\n",
       "      <th>date</th>\n",
       "      <th>time</th>\n",
       "    </tr>\n",
       "  </thead>\n",
       "  <tbody>\n",
       "    <tr>\n",
       "      <th>0</th>\n",
       "      <td>2019-11-01 00:01:00</td>\n",
       "      <td>139.986</td>\n",
       "      <td>139.987</td>\n",
       "      <td>139.985</td>\n",
       "      <td>139.987</td>\n",
       "      <td>0.001</td>\n",
       "      <td>2019-11-01</td>\n",
       "      <td>00:01:00</td>\n",
       "    </tr>\n",
       "    <tr>\n",
       "      <th>1</th>\n",
       "      <td>2019-11-01 00:02:00</td>\n",
       "      <td>139.988</td>\n",
       "      <td>139.999</td>\n",
       "      <td>139.986</td>\n",
       "      <td>139.993</td>\n",
       "      <td>0.005</td>\n",
       "      <td>2019-11-01</td>\n",
       "      <td>00:02:00</td>\n",
       "    </tr>\n",
       "    <tr>\n",
       "      <th>2</th>\n",
       "      <td>2019-11-01 00:03:00</td>\n",
       "      <td>139.991</td>\n",
       "      <td>139.996</td>\n",
       "      <td>139.990</td>\n",
       "      <td>139.993</td>\n",
       "      <td>0.002</td>\n",
       "      <td>2019-11-01</td>\n",
       "      <td>00:03:00</td>\n",
       "    </tr>\n",
       "    <tr>\n",
       "      <th>3</th>\n",
       "      <td>2019-11-01 00:04:00</td>\n",
       "      <td>139.994</td>\n",
       "      <td>139.998</td>\n",
       "      <td>139.992</td>\n",
       "      <td>139.994</td>\n",
       "      <td>0.000</td>\n",
       "      <td>2019-11-01</td>\n",
       "      <td>00:04:00</td>\n",
       "    </tr>\n",
       "    <tr>\n",
       "      <th>4</th>\n",
       "      <td>2019-11-01 00:05:00</td>\n",
       "      <td>139.995</td>\n",
       "      <td>140.001</td>\n",
       "      <td>139.992</td>\n",
       "      <td>139.992</td>\n",
       "      <td>-0.003</td>\n",
       "      <td>2019-11-01</td>\n",
       "      <td>00:05:00</td>\n",
       "    </tr>\n",
       "  </tbody>\n",
       "</table>\n",
       "</div>"
      ],
      "text/plain": [
       "            timestamp     open      max      min    close  delta        date  \\\n",
       "0 2019-11-01 00:01:00  139.986  139.987  139.985  139.987  0.001  2019-11-01   \n",
       "1 2019-11-01 00:02:00  139.988  139.999  139.986  139.993  0.005  2019-11-01   \n",
       "2 2019-11-01 00:03:00  139.991  139.996  139.990  139.993  0.002  2019-11-01   \n",
       "3 2019-11-01 00:04:00  139.994  139.998  139.992  139.994  0.000  2019-11-01   \n",
       "4 2019-11-01 00:05:00  139.995  140.001  139.992  139.992 -0.003  2019-11-01   \n",
       "\n",
       "       time  \n",
       "0  00:01:00  \n",
       "1  00:02:00  \n",
       "2  00:03:00  \n",
       "3  00:04:00  \n",
       "4  00:05:00  "
      ]
     },
     "execution_count": 11,
     "metadata": {},
     "output_type": "execute_result"
    }
   ],
   "source": [
    "gbpJpy_data.head()"
   ]
  },
  {
   "cell_type": "code",
   "execution_count": 16,
   "metadata": {},
   "outputs": [],
   "source": [
    "# euroUSD_data.date = pd.to_datetime(euroUSD_data.date, format=\"%Y-%m-%d\")\n"
   ]
  },
  {
   "cell_type": "code",
   "execution_count": 17,
   "metadata": {},
   "outputs": [],
   "source": [
    "# euroUSD_data.time = pd.to_datetime(euroUSD_data.time, format=\"%H:%M:%S\")"
   ]
  },
  {
   "cell_type": "code",
   "execution_count": 18,
   "metadata": {},
   "outputs": [],
   "source": [
    "# euroUSD_data.time = euroUSD_data.timestamp.apply(lambda x: x.time())"
   ]
  },
  {
   "cell_type": "code",
   "execution_count": 19,
   "metadata": {},
   "outputs": [],
   "source": [
    "# euroUSD_data.time.dtype"
   ]
  },
  {
   "cell_type": "code",
   "execution_count": 12,
   "metadata": {},
   "outputs": [
    {
     "data": {
      "text/html": [
       "<div>\n",
       "<style scoped>\n",
       "    .dataframe tbody tr th:only-of-type {\n",
       "        vertical-align: middle;\n",
       "    }\n",
       "\n",
       "    .dataframe tbody tr th {\n",
       "        vertical-align: top;\n",
       "    }\n",
       "\n",
       "    .dataframe thead th {\n",
       "        text-align: right;\n",
       "    }\n",
       "</style>\n",
       "<table border=\"1\" class=\"dataframe\">\n",
       "  <thead>\n",
       "    <tr style=\"text-align: right;\">\n",
       "      <th></th>\n",
       "      <th>timestamp</th>\n",
       "      <th>open</th>\n",
       "      <th>max</th>\n",
       "      <th>min</th>\n",
       "      <th>close</th>\n",
       "      <th>delta</th>\n",
       "      <th>date</th>\n",
       "      <th>time</th>\n",
       "    </tr>\n",
       "  </thead>\n",
       "  <tbody>\n",
       "    <tr>\n",
       "      <th>0</th>\n",
       "      <td>2019-11-01 00:01:00</td>\n",
       "      <td>139.986</td>\n",
       "      <td>139.987</td>\n",
       "      <td>139.985</td>\n",
       "      <td>139.987</td>\n",
       "      <td>0.001</td>\n",
       "      <td>2019-11-01</td>\n",
       "      <td>00:01:00</td>\n",
       "    </tr>\n",
       "    <tr>\n",
       "      <th>1</th>\n",
       "      <td>2019-11-01 00:02:00</td>\n",
       "      <td>139.988</td>\n",
       "      <td>139.999</td>\n",
       "      <td>139.986</td>\n",
       "      <td>139.993</td>\n",
       "      <td>0.005</td>\n",
       "      <td>2019-11-01</td>\n",
       "      <td>00:02:00</td>\n",
       "    </tr>\n",
       "    <tr>\n",
       "      <th>2</th>\n",
       "      <td>2019-11-01 00:03:00</td>\n",
       "      <td>139.991</td>\n",
       "      <td>139.996</td>\n",
       "      <td>139.990</td>\n",
       "      <td>139.993</td>\n",
       "      <td>0.002</td>\n",
       "      <td>2019-11-01</td>\n",
       "      <td>00:03:00</td>\n",
       "    </tr>\n",
       "    <tr>\n",
       "      <th>3</th>\n",
       "      <td>2019-11-01 00:04:00</td>\n",
       "      <td>139.994</td>\n",
       "      <td>139.998</td>\n",
       "      <td>139.992</td>\n",
       "      <td>139.994</td>\n",
       "      <td>0.000</td>\n",
       "      <td>2019-11-01</td>\n",
       "      <td>00:04:00</td>\n",
       "    </tr>\n",
       "    <tr>\n",
       "      <th>4</th>\n",
       "      <td>2019-11-01 00:05:00</td>\n",
       "      <td>139.995</td>\n",
       "      <td>140.001</td>\n",
       "      <td>139.992</td>\n",
       "      <td>139.992</td>\n",
       "      <td>-0.003</td>\n",
       "      <td>2019-11-01</td>\n",
       "      <td>00:05:00</td>\n",
       "    </tr>\n",
       "  </tbody>\n",
       "</table>\n",
       "</div>"
      ],
      "text/plain": [
       "            timestamp     open      max      min    close  delta        date  \\\n",
       "0 2019-11-01 00:01:00  139.986  139.987  139.985  139.987  0.001  2019-11-01   \n",
       "1 2019-11-01 00:02:00  139.988  139.999  139.986  139.993  0.005  2019-11-01   \n",
       "2 2019-11-01 00:03:00  139.991  139.996  139.990  139.993  0.002  2019-11-01   \n",
       "3 2019-11-01 00:04:00  139.994  139.998  139.992  139.994  0.000  2019-11-01   \n",
       "4 2019-11-01 00:05:00  139.995  140.001  139.992  139.992 -0.003  2019-11-01   \n",
       "\n",
       "       time  \n",
       "0  00:01:00  \n",
       "1  00:02:00  \n",
       "2  00:03:00  \n",
       "3  00:04:00  \n",
       "4  00:05:00  "
      ]
     },
     "execution_count": 12,
     "metadata": {},
     "output_type": "execute_result"
    }
   ],
   "source": [
    "gbpJpy_data.head()"
   ]
  },
  {
   "cell_type": "code",
   "execution_count": 13,
   "metadata": {},
   "outputs": [],
   "source": [
    "gbpJpy_data.date = pd.to_datetime(gbpJpy_data.date, format=\"%Y-%m-%d\")"
   ]
  },
  {
   "cell_type": "code",
   "execution_count": 14,
   "metadata": {},
   "outputs": [],
   "source": [
    "gbpJpy_data_tst = gbpJpy_data[gbpJpy_data['date']==\"2019-11-08\"].reset_index()"
   ]
  },
  {
   "cell_type": "code",
   "execution_count": 16,
   "metadata": {},
   "outputs": [
    {
     "data": {
      "text/html": [
       "<div>\n",
       "<style scoped>\n",
       "    .dataframe tbody tr th:only-of-type {\n",
       "        vertical-align: middle;\n",
       "    }\n",
       "\n",
       "    .dataframe tbody tr th {\n",
       "        vertical-align: top;\n",
       "    }\n",
       "\n",
       "    .dataframe thead th {\n",
       "        text-align: right;\n",
       "    }\n",
       "</style>\n",
       "<table border=\"1\" class=\"dataframe\">\n",
       "  <thead>\n",
       "    <tr style=\"text-align: right;\">\n",
       "      <th></th>\n",
       "      <th>index</th>\n",
       "      <th>timestamp</th>\n",
       "      <th>open</th>\n",
       "      <th>max</th>\n",
       "      <th>min</th>\n",
       "      <th>close</th>\n",
       "      <th>delta</th>\n",
       "      <th>date</th>\n",
       "      <th>time</th>\n",
       "    </tr>\n",
       "  </thead>\n",
       "  <tbody>\n",
       "    <tr>\n",
       "      <th>0</th>\n",
       "      <td>7132</td>\n",
       "      <td>2019-11-08 00:00:00</td>\n",
       "      <td>139.969</td>\n",
       "      <td>139.969</td>\n",
       "      <td>139.956</td>\n",
       "      <td>139.960</td>\n",
       "      <td>-0.009</td>\n",
       "      <td>2019-11-08</td>\n",
       "      <td>00:00:00</td>\n",
       "    </tr>\n",
       "    <tr>\n",
       "      <th>1</th>\n",
       "      <td>7133</td>\n",
       "      <td>2019-11-08 00:01:00</td>\n",
       "      <td>139.959</td>\n",
       "      <td>139.960</td>\n",
       "      <td>139.943</td>\n",
       "      <td>139.947</td>\n",
       "      <td>-0.012</td>\n",
       "      <td>2019-11-08</td>\n",
       "      <td>00:01:00</td>\n",
       "    </tr>\n",
       "    <tr>\n",
       "      <th>2</th>\n",
       "      <td>7134</td>\n",
       "      <td>2019-11-08 00:02:00</td>\n",
       "      <td>139.947</td>\n",
       "      <td>139.948</td>\n",
       "      <td>139.944</td>\n",
       "      <td>139.948</td>\n",
       "      <td>0.001</td>\n",
       "      <td>2019-11-08</td>\n",
       "      <td>00:02:00</td>\n",
       "    </tr>\n",
       "    <tr>\n",
       "      <th>3</th>\n",
       "      <td>7135</td>\n",
       "      <td>2019-11-08 00:03:00</td>\n",
       "      <td>139.947</td>\n",
       "      <td>139.949</td>\n",
       "      <td>139.946</td>\n",
       "      <td>139.949</td>\n",
       "      <td>0.002</td>\n",
       "      <td>2019-11-08</td>\n",
       "      <td>00:03:00</td>\n",
       "    </tr>\n",
       "    <tr>\n",
       "      <th>4</th>\n",
       "      <td>7136</td>\n",
       "      <td>2019-11-08 00:04:00</td>\n",
       "      <td>139.949</td>\n",
       "      <td>139.956</td>\n",
       "      <td>139.949</td>\n",
       "      <td>139.956</td>\n",
       "      <td>0.007</td>\n",
       "      <td>2019-11-08</td>\n",
       "      <td>00:04:00</td>\n",
       "    </tr>\n",
       "  </tbody>\n",
       "</table>\n",
       "</div>"
      ],
      "text/plain": [
       "   index           timestamp     open      max      min    close  delta  \\\n",
       "0   7132 2019-11-08 00:00:00  139.969  139.969  139.956  139.960 -0.009   \n",
       "1   7133 2019-11-08 00:01:00  139.959  139.960  139.943  139.947 -0.012   \n",
       "2   7134 2019-11-08 00:02:00  139.947  139.948  139.944  139.948  0.001   \n",
       "3   7135 2019-11-08 00:03:00  139.947  139.949  139.946  139.949  0.002   \n",
       "4   7136 2019-11-08 00:04:00  139.949  139.956  139.949  139.956  0.007   \n",
       "\n",
       "        date      time  \n",
       "0 2019-11-08  00:00:00  \n",
       "1 2019-11-08  00:01:00  \n",
       "2 2019-11-08  00:02:00  \n",
       "3 2019-11-08  00:03:00  \n",
       "4 2019-11-08  00:04:00  "
      ]
     },
     "execution_count": 16,
     "metadata": {},
     "output_type": "execute_result"
    }
   ],
   "source": [
    "gbpJpy_data_tst.head()"
   ]
  },
  {
   "cell_type": "code",
   "execution_count": 18,
   "metadata": {},
   "outputs": [
    {
     "data": {
      "text/html": [
       "<div>\n",
       "<style scoped>\n",
       "    .dataframe tbody tr th:only-of-type {\n",
       "        vertical-align: middle;\n",
       "    }\n",
       "\n",
       "    .dataframe tbody tr th {\n",
       "        vertical-align: top;\n",
       "    }\n",
       "\n",
       "    .dataframe thead th {\n",
       "        text-align: right;\n",
       "    }\n",
       "</style>\n",
       "<table border=\"1\" class=\"dataframe\">\n",
       "  <thead>\n",
       "    <tr style=\"text-align: right;\">\n",
       "      <th></th>\n",
       "      <th>index</th>\n",
       "      <th>timestamp</th>\n",
       "      <th>open</th>\n",
       "      <th>max</th>\n",
       "      <th>min</th>\n",
       "      <th>close</th>\n",
       "      <th>delta</th>\n",
       "      <th>date</th>\n",
       "      <th>time</th>\n",
       "    </tr>\n",
       "  </thead>\n",
       "  <tbody>\n",
       "    <tr>\n",
       "      <th>0</th>\n",
       "      <td>7132</td>\n",
       "      <td>2019-11-08 00:00:00</td>\n",
       "      <td>139.969</td>\n",
       "      <td>139.969</td>\n",
       "      <td>139.956</td>\n",
       "      <td>139.960</td>\n",
       "      <td>-0.009</td>\n",
       "      <td>2019-11-08</td>\n",
       "      <td>00:00:00</td>\n",
       "    </tr>\n",
       "    <tr>\n",
       "      <th>1</th>\n",
       "      <td>7133</td>\n",
       "      <td>2019-11-08 00:01:00</td>\n",
       "      <td>139.959</td>\n",
       "      <td>139.960</td>\n",
       "      <td>139.943</td>\n",
       "      <td>139.947</td>\n",
       "      <td>-0.012</td>\n",
       "      <td>2019-11-08</td>\n",
       "      <td>00:01:00</td>\n",
       "    </tr>\n",
       "    <tr>\n",
       "      <th>2</th>\n",
       "      <td>7134</td>\n",
       "      <td>2019-11-08 00:02:00</td>\n",
       "      <td>139.947</td>\n",
       "      <td>139.948</td>\n",
       "      <td>139.944</td>\n",
       "      <td>139.948</td>\n",
       "      <td>0.001</td>\n",
       "      <td>2019-11-08</td>\n",
       "      <td>00:02:00</td>\n",
       "    </tr>\n",
       "    <tr>\n",
       "      <th>3</th>\n",
       "      <td>7135</td>\n",
       "      <td>2019-11-08 00:03:00</td>\n",
       "      <td>139.947</td>\n",
       "      <td>139.949</td>\n",
       "      <td>139.946</td>\n",
       "      <td>139.949</td>\n",
       "      <td>0.002</td>\n",
       "      <td>2019-11-08</td>\n",
       "      <td>00:03:00</td>\n",
       "    </tr>\n",
       "    <tr>\n",
       "      <th>4</th>\n",
       "      <td>7136</td>\n",
       "      <td>2019-11-08 00:04:00</td>\n",
       "      <td>139.949</td>\n",
       "      <td>139.956</td>\n",
       "      <td>139.949</td>\n",
       "      <td>139.956</td>\n",
       "      <td>0.007</td>\n",
       "      <td>2019-11-08</td>\n",
       "      <td>00:04:00</td>\n",
       "    </tr>\n",
       "  </tbody>\n",
       "</table>\n",
       "</div>"
      ],
      "text/plain": [
       "   index           timestamp     open      max      min    close  delta  \\\n",
       "0   7132 2019-11-08 00:00:00  139.969  139.969  139.956  139.960 -0.009   \n",
       "1   7133 2019-11-08 00:01:00  139.959  139.960  139.943  139.947 -0.012   \n",
       "2   7134 2019-11-08 00:02:00  139.947  139.948  139.944  139.948  0.001   \n",
       "3   7135 2019-11-08 00:03:00  139.947  139.949  139.946  139.949  0.002   \n",
       "4   7136 2019-11-08 00:04:00  139.949  139.956  139.949  139.956  0.007   \n",
       "\n",
       "        date      time  \n",
       "0 2019-11-08  00:00:00  \n",
       "1 2019-11-08  00:01:00  \n",
       "2 2019-11-08  00:02:00  \n",
       "3 2019-11-08  00:03:00  \n",
       "4 2019-11-08  00:04:00  "
      ]
     },
     "execution_count": 18,
     "metadata": {},
     "output_type": "execute_result"
    }
   ],
   "source": [
    "gbpJpy_data_tst.head()"
   ]
  },
  {
   "cell_type": "code",
   "execution_count": 19,
   "metadata": {},
   "outputs": [
    {
     "name": "stderr",
     "output_type": "stream",
     "text": [
      "C:\\Users\\hero144\\.conda\\envs\\py36\\lib\\site-packages\\pandas\\plotting\\_converter.py:129: FutureWarning: Using an implicitly registered datetime converter for a matplotlib plotting method. The converter was registered by pandas on import. Future versions of pandas will require you to explicitly register matplotlib converters.\n",
      "\n",
      "To register the converters:\n",
      "\t>>> from pandas.plotting import register_matplotlib_converters\n",
      "\t>>> register_matplotlib_converters()\n",
      "  warnings.warn(msg, FutureWarning)\n"
     ]
    },
    {
     "data": {
      "text/plain": [
       "[<matplotlib.lines.Line2D at 0x165b936f400>]"
      ]
     },
     "execution_count": 19,
     "metadata": {},
     "output_type": "execute_result"
    },
    {
     "data": {
      "image/png": "[encoded data removed]",
      "text/plain": [
       "<Figure size 1008x576 with 1 Axes>"
      ]
     },
     "metadata": {
      "needs_background": "light"
     },
     "output_type": "display_data"
    }
   ],
   "source": [
    "plt.figure(figsize=(14,8))\n",
    "plt.plot(gbpJpy_data_tst.timestamp, gbpJpy_data_tst.close)"
   ]
  },
  {
   "cell_type": "code",
   "execution_count": 20,
   "metadata": {},
   "outputs": [],
   "source": [
    "gbpJpy_data_tst['time_'] = gbpJpy_data_tst.index"
   ]
  },
  {
   "cell_type": "code",
   "execution_count": 21,
   "metadata": {},
   "outputs": [],
   "source": [
    "gbpJpy_data_tst = gbpJpy_data_tst.drop(\"index\", axis=1)"
   ]
  },
  {
   "cell_type": "code",
   "execution_count": 22,
   "metadata": {},
   "outputs": [],
   "source": [
    "gbpJpy_data_tst = gbpJpy_data_tst.drop(\"time\", axis=1)"
   ]
  },
  {
   "cell_type": "code",
   "execution_count": 23,
   "metadata": {},
   "outputs": [
    {
     "data": {
      "text/html": [
       "<div>\n",
       "<style scoped>\n",
       "    .dataframe tbody tr th:only-of-type {\n",
       "        vertical-align: middle;\n",
       "    }\n",
       "\n",
       "    .dataframe tbody tr th {\n",
       "        vertical-align: top;\n",
       "    }\n",
       "\n",
       "    .dataframe thead th {\n",
       "        text-align: right;\n",
       "    }\n",
       "</style>\n",
       "<table border=\"1\" class=\"dataframe\">\n",
       "  <thead>\n",
       "    <tr style=\"text-align: right;\">\n",
       "      <th></th>\n",
       "      <th>timestamp</th>\n",
       "      <th>open</th>\n",
       "      <th>max</th>\n",
       "      <th>min</th>\n",
       "      <th>close</th>\n",
       "      <th>delta</th>\n",
       "      <th>date</th>\n",
       "      <th>time_</th>\n",
       "    </tr>\n",
       "  </thead>\n",
       "  <tbody>\n",
       "    <tr>\n",
       "      <th>0</th>\n",
       "      <td>2019-11-08 00:00:00</td>\n",
       "      <td>139.969</td>\n",
       "      <td>139.969</td>\n",
       "      <td>139.956</td>\n",
       "      <td>139.960</td>\n",
       "      <td>-0.009</td>\n",
       "      <td>2019-11-08</td>\n",
       "      <td>0</td>\n",
       "    </tr>\n",
       "    <tr>\n",
       "      <th>1</th>\n",
       "      <td>2019-11-08 00:01:00</td>\n",
       "      <td>139.959</td>\n",
       "      <td>139.960</td>\n",
       "      <td>139.943</td>\n",
       "      <td>139.947</td>\n",
       "      <td>-0.012</td>\n",
       "      <td>2019-11-08</td>\n",
       "      <td>1</td>\n",
       "    </tr>\n",
       "    <tr>\n",
       "      <th>2</th>\n",
       "      <td>2019-11-08 00:02:00</td>\n",
       "      <td>139.947</td>\n",
       "      <td>139.948</td>\n",
       "      <td>139.944</td>\n",
       "      <td>139.948</td>\n",
       "      <td>0.001</td>\n",
       "      <td>2019-11-08</td>\n",
       "      <td>2</td>\n",
       "    </tr>\n",
       "    <tr>\n",
       "      <th>3</th>\n",
       "      <td>2019-11-08 00:03:00</td>\n",
       "      <td>139.947</td>\n",
       "      <td>139.949</td>\n",
       "      <td>139.946</td>\n",
       "      <td>139.949</td>\n",
       "      <td>0.002</td>\n",
       "      <td>2019-11-08</td>\n",
       "      <td>3</td>\n",
       "    </tr>\n",
       "    <tr>\n",
       "      <th>4</th>\n",
       "      <td>2019-11-08 00:04:00</td>\n",
       "      <td>139.949</td>\n",
       "      <td>139.956</td>\n",
       "      <td>139.949</td>\n",
       "      <td>139.956</td>\n",
       "      <td>0.007</td>\n",
       "      <td>2019-11-08</td>\n",
       "      <td>4</td>\n",
       "    </tr>\n",
       "  </tbody>\n",
       "</table>\n",
       "</div>"
      ],
      "text/plain": [
       "            timestamp     open      max      min    close  delta       date  \\\n",
       "0 2019-11-08 00:00:00  139.969  139.969  139.956  139.960 -0.009 2019-11-08   \n",
       "1 2019-11-08 00:01:00  139.959  139.960  139.943  139.947 -0.012 2019-11-08   \n",
       "2 2019-11-08 00:02:00  139.947  139.948  139.944  139.948  0.001 2019-11-08   \n",
       "3 2019-11-08 00:03:00  139.947  139.949  139.946  139.949  0.002 2019-11-08   \n",
       "4 2019-11-08 00:04:00  139.949  139.956  139.949  139.956  0.007 2019-11-08   \n",
       "\n",
       "   time_  \n",
       "0      0  \n",
       "1      1  \n",
       "2      2  \n",
       "3      3  \n",
       "4      4  "
      ]
     },
     "execution_count": 23,
     "metadata": {},
     "output_type": "execute_result"
    }
   ],
   "source": [
    "gbpJpy_data_tst.head()"
   ]
  },
  {
   "cell_type": "code",
   "execution_count": 24,
   "metadata": {},
   "outputs": [
    {
     "data": {
      "text/plain": [
       "1019"
      ]
     },
     "execution_count": 24,
     "metadata": {},
     "output_type": "execute_result"
    }
   ],
   "source": [
    "len(gbpJpy_data_tst)"
   ]
  },
  {
   "cell_type": "code",
   "execution_count": 25,
   "metadata": {},
   "outputs": [],
   "source": [
    "gbpJpy_data_tst_final = gbpJpy_data_tst[[\"close\",\"time_\"]]"
   ]
  },
  {
   "cell_type": "code",
   "execution_count": 26,
   "metadata": {},
   "outputs": [
    {
     "data": {
      "text/html": [
       "<div>\n",
       "<style scoped>\n",
       "    .dataframe tbody tr th:only-of-type {\n",
       "        vertical-align: middle;\n",
       "    }\n",
       "\n",
       "    .dataframe tbody tr th {\n",
       "        vertical-align: top;\n",
       "    }\n",
       "\n",
       "    .dataframe thead th {\n",
       "        text-align: right;\n",
       "    }\n",
       "</style>\n",
       "<table border=\"1\" class=\"dataframe\">\n",
       "  <thead>\n",
       "    <tr style=\"text-align: right;\">\n",
       "      <th></th>\n",
       "      <th>close</th>\n",
       "      <th>time_</th>\n",
       "    </tr>\n",
       "  </thead>\n",
       "  <tbody>\n",
       "    <tr>\n",
       "      <th>0</th>\n",
       "      <td>139.960</td>\n",
       "      <td>0</td>\n",
       "    </tr>\n",
       "    <tr>\n",
       "      <th>1</th>\n",
       "      <td>139.947</td>\n",
       "      <td>1</td>\n",
       "    </tr>\n",
       "    <tr>\n",
       "      <th>2</th>\n",
       "      <td>139.948</td>\n",
       "      <td>2</td>\n",
       "    </tr>\n",
       "    <tr>\n",
       "      <th>3</th>\n",
       "      <td>139.949</td>\n",
       "      <td>3</td>\n",
       "    </tr>\n",
       "    <tr>\n",
       "      <th>4</th>\n",
       "      <td>139.956</td>\n",
       "      <td>4</td>\n",
       "    </tr>\n",
       "  </tbody>\n",
       "</table>\n",
       "</div>"
      ],
      "text/plain": [
       "     close  time_\n",
       "0  139.960      0\n",
       "1  139.947      1\n",
       "2  139.948      2\n",
       "3  139.949      3\n",
       "4  139.956      4"
      ]
     },
     "execution_count": 26,
     "metadata": {},
     "output_type": "execute_result"
    }
   ],
   "source": [
    "gbpJpy_data_tst_final.head()"
   ]
  },
  {
   "cell_type": "code",
   "execution_count": 27,
   "metadata": {},
   "outputs": [],
   "source": [
    "series = gbpJpy_data_tst_final.close.to_numpy()"
   ]
  },
  {
   "cell_type": "code",
   "execution_count": 28,
   "metadata": {},
   "outputs": [
    {
     "data": {
      "text/plain": [
       "array([139.96 , 139.947, 139.948, ..., 139.579, 139.552, 139.557])"
      ]
     },
     "execution_count": 28,
     "metadata": {},
     "output_type": "execute_result"
    }
   ],
   "source": [
    "series"
   ]
  },
  {
   "cell_type": "code",
   "execution_count": 29,
   "metadata": {},
   "outputs": [],
   "source": [
    "time = gbpJpy_data_tst_final.time_.to_numpy()"
   ]
  },
  {
   "cell_type": "code",
   "execution_count": 30,
   "metadata": {},
   "outputs": [
    {
     "data": {
      "text/plain": [
       "array([   0,    1,    2, ..., 1016, 1017, 1018], dtype=int64)"
      ]
     },
     "execution_count": 30,
     "metadata": {},
     "output_type": "execute_result"
    }
   ],
   "source": [
    "time"
   ]
  },
  {
   "cell_type": "code",
   "execution_count": null,
   "metadata": {},
   "outputs": [],
   "source": []
  },
  {
   "cell_type": "code",
   "execution_count": 33,
   "metadata": {},
   "outputs": [],
   "source": [
    "split_time = 800\n",
    "time_train = time[:split_time]\n",
    "x_train = series[:split_time]\n",
    "time_valid = time[split_time:]\n",
    "x_valid = series[split_time:]"
   ]
  },
  {
   "cell_type": "code",
   "execution_count": 34,
   "metadata": {},
   "outputs": [
    {
     "data": {
      "text/plain": [
       "(219, 219)"
      ]
     },
     "execution_count": 34,
     "metadata": {},
     "output_type": "execute_result"
    }
   ],
   "source": [
    "len(time_valid), len(x_valid)"
   ]
  },
  {
   "cell_type": "code",
   "execution_count": 35,
   "metadata": {},
   "outputs": [],
   "source": [
    "window_size = 20\n",
    "batch_size = 32\n",
    "shuffle_buffer_size = 800"
   ]
  },
  {
   "cell_type": "code",
   "execution_count": 36,
   "metadata": {},
   "outputs": [],
   "source": [
    "def windowed_dataset(series, window_size, batch_size, shuffle_buffer):\n",
    "    dataset = tf.data.Dataset.from_tensor_slices(series)\n",
    "    dataset = dataset.window(window_size + 1, shift=1, drop_remainder=True)\n",
    "    dataset = dataset.flat_map(lambda window: window.batch(window_size + 1))\n",
    "    dataset = dataset.shuffle(shuffle_buffer).map(lambda window: (window[:-1], window[-1]))\n",
    "    dataset = dataset.batch(batch_size).prefetch(1)\n",
    "    return dataset"
   ]
  },
  {
   "cell_type": "code",
   "execution_count": 37,
   "metadata": {},
   "outputs": [],
   "source": [
    "def plot_series(time, series, format=\"-\", start=0, end=None):\n",
    "    plt.plot(time[start:end], series[start:end], format)\n",
    "    plt.xlabel(\"Time\")\n",
    "    plt.ylabel(\"Value\")\n",
    "    plt.grid(True)"
   ]
  },
  {
   "cell_type": "code",
   "execution_count": 140,
   "metadata": {},
   "outputs": [
    {
     "name": "stdout",
     "output_type": "stream",
     "text": [
      "Epoch 1/100\n",
      "39/39 [==============================] - 2s 63ms/step - loss: 134.2740 - mae: 134.7740\n",
      "Epoch 2/100\n",
      "39/39 [==============================] - 1s 20ms/step - loss: 134.2053 - mae: 134.7053\n",
      "Epoch 3/100\n",
      "39/39 [==============================] - 1s 20ms/step - loss: 134.1300 - mae: 134.6300\n",
      "Epoch 4/100\n",
      "39/39 [==============================] - 1s 20ms/step - loss: 134.0513 - mae: 134.5513\n",
      "Epoch 5/100\n",
      "39/39 [==============================] - 1s 21ms/step - loss: 133.9683 - mae: 134.4683\n",
      "Epoch 6/100\n",
      "39/39 [==============================] - 1s 21ms/step - loss: 133.8801 - mae: 134.3801\n",
      "Epoch 7/100\n",
      "39/39 [==============================] - 1s 21ms/step - loss: 133.7858 - mae: 134.2858\n",
      "Epoch 8/100\n",
      "39/39 [==============================] - 1s 20ms/step - loss: 133.6842 - mae: 134.1842\n",
      "Epoch 9/100\n",
      "39/39 [==============================] - 1s 20ms/step - loss: 133.5740 - mae: 134.0740\n",
      "Epoch 10/100\n",
      "39/39 [==============================] - 1s 22ms/step - loss: 133.4538 - mae: 133.9538\n",
      "Epoch 11/100\n",
      "39/39 [==============================] - 1s 22ms/step - loss: 133.3222 - mae: 133.8222\n",
      "Epoch 12/100\n",
      "39/39 [==============================] - 1s 22ms/step - loss: 133.1776 - mae: 133.6776\n",
      "Epoch 13/100\n",
      "39/39 [==============================] - 1s 22ms/step - loss: 133.0185 - mae: 133.5185\n",
      "Epoch 14/100\n",
      "39/39 [==============================] - 1s 21ms/step - loss: 132.8434 - mae: 133.3434\n",
      "Epoch 15/100\n",
      "39/39 [==============================] - 1s 19ms/step - loss: 132.6505 - mae: 133.1505\n",
      "Epoch 16/100\n",
      "39/39 [==============================] - 1s 20ms/step - loss: 132.4384 - mae: 132.9385\n",
      "Epoch 17/100\n",
      "39/39 [==============================] - 1s 21ms/step - loss: 132.2054 - mae: 132.7054\n",
      "Epoch 18/100\n",
      "39/39 [==============================] - 1s 21ms/step - loss: 131.9498 - mae: 132.4498\n",
      "Epoch 19/100\n",
      "39/39 [==============================] - 1s 22ms/step - loss: 131.6697 - mae: 132.1697\n",
      "Epoch 20/100\n",
      "39/39 [==============================] - 1s 19ms/step - loss: 131.3634 - mae: 131.8634\n",
      "Epoch 21/100\n",
      "39/39 [==============================] - 1s 20ms/step - loss: 131.0290 - mae: 131.5291\n",
      "Epoch 22/100\n",
      "39/39 [==============================] - 1s 20ms/step - loss: 130.6650 - mae: 131.1649\n",
      "Epoch 23/100\n",
      "39/39 [==============================] - 1s 21ms/step - loss: 130.2698 - mae: 130.7699\n",
      "Epoch 24/100\n",
      "39/39 [==============================] - 1s 20ms/step - loss: 129.8428 - mae: 130.3427\n",
      "Epoch 25/100\n",
      "39/39 [==============================] - 1s 21ms/step - loss: 129.3834 - mae: 129.8834\n",
      "Epoch 26/100\n",
      "39/39 [==============================] - 1s 22ms/step - loss: 128.8921 - mae: 129.3921\n",
      "Epoch 27/100\n",
      "39/39 [==============================] - 1s 21ms/step - loss: 128.3702 - mae: 128.8702\n",
      "Epoch 28/100\n",
      "39/39 [==============================] - 1s 21ms/step - loss: 127.8197 - mae: 128.3197\n",
      "Epoch 29/100\n",
      "39/39 [==============================] - 1s 20ms/step - loss: 127.2436 - mae: 127.7436\n",
      "Epoch 30/100\n",
      "39/39 [==============================] - 1s 21ms/step - loss: 126.6455 - mae: 127.1455\n",
      "Epoch 31/100\n",
      "39/39 [==============================] - 1s 21ms/step - loss: 126.0296 - mae: 126.5296\n",
      "Epoch 32/100\n",
      "39/39 [==============================] - 1s 21ms/step - loss: 125.3999 - mae: 125.8999\n",
      "Epoch 33/100\n",
      "39/39 [==============================] - 1s 22ms/step - loss: 124.7597 - mae: 125.2597\n",
      "Epoch 34/100\n",
      "39/39 [==============================] - 1s 22ms/step - loss: 124.1105 - mae: 124.6105\n",
      "Epoch 35/100\n",
      "39/39 [==============================] - 1s 21ms/step - loss: 123.4516 - mae: 123.9516\n",
      "Epoch 36/100\n",
      "39/39 [==============================] - 1s 21ms/step - loss: 122.7795 - mae: 123.2796\n",
      "Epoch 37/100\n",
      "39/39 [==============================] - 1s 21ms/step - loss: 122.0881 - mae: 122.5881\n",
      "Epoch 38/100\n",
      "39/39 [==============================] - 1s 21ms/step - loss: 121.3689 - mae: 121.8689\n",
      "Epoch 39/100\n",
      "39/39 [==============================] - 1s 21ms/step - loss: 120.6121 - mae: 121.1121\n",
      "Epoch 40/100\n",
      "39/39 [==============================] - 1s 21ms/step - loss: 119.8066 - mae: 120.3066\n",
      "Epoch 41/100\n",
      "39/39 [==============================] - 1s 22ms/step - loss: 118.9403 - mae: 119.4403\n",
      "Epoch 42/100\n",
      "39/39 [==============================] - 1s 22ms/step - loss: 118.0007 - mae: 118.5007\n",
      "Epoch 43/100\n",
      "39/39 [==============================] - 1s 20ms/step - loss: 116.9744 - mae: 117.4744\n",
      "Epoch 44/100\n",
      "39/39 [==============================] - 1s 22ms/step - loss: 115.8477 - mae: 116.3477\n",
      "Epoch 45/100\n",
      "39/39 [==============================] - 1s 21ms/step - loss: 114.6066 - mae: 115.1066\n",
      "Epoch 46/100\n",
      "39/39 [==============================] - 1s 22ms/step - loss: 113.2364 - mae: 113.7364\n",
      "Epoch 47/100\n",
      "39/39 [==============================] - 1s 22ms/step - loss: 111.7222 - mae: 112.2222\n",
      "Epoch 48/100\n",
      "39/39 [==============================] - 1s 21ms/step - loss: 110.0481 - mae: 110.5481\n",
      "Epoch 49/100\n",
      "39/39 [==============================] - 1s 22ms/step - loss: 108.1959 - mae: 108.6959\n",
      "Epoch 50/100\n",
      "39/39 [==============================] - 1s 21ms/step - loss: 106.1430 - mae: 106.6429\n",
      "Epoch 51/100\n",
      "39/39 [==============================] - 1s 19ms/step - loss: 103.8603 - mae: 104.3603\n",
      "Epoch 52/100\n",
      "39/39 [==============================] - 1s 22ms/step - loss: 101.3113 - mae: 101.8113: 0s - loss: 102.3957 - ma\n",
      "Epoch 53/100\n",
      "39/39 [==============================] - 1s 21ms/step - loss: 98.4572 - mae: 98.9572\n",
      "Epoch 54/100\n",
      "39/39 [==============================] - 1s 20ms/step - loss: 95.2720 - mae: 95.7720\n",
      "Epoch 55/100\n",
      "39/39 [==============================] - 1s 20ms/step - loss: 91.7397 - mae: 92.2397\n",
      "Epoch 56/100\n",
      "39/39 [==============================] - 1s 20ms/step - loss: 87.8186 - mae: 88.3186\n",
      "Epoch 57/100\n",
      "39/39 [==============================] - 1s 21ms/step - loss: 83.4387 - mae: 83.9387\n",
      "Epoch 58/100\n",
      "39/39 [==============================] - 1s 22ms/step - loss: 78.5137 - mae: 79.0136\n",
      "Epoch 59/100\n",
      "39/39 [==============================] - 1s 21ms/step - loss: 72.9440 - mae: 73.4440\n",
      "Epoch 60/100\n",
      "39/39 [==============================] - 1s 22ms/step - loss: 66.6233 - mae: 67.1233\n",
      "Epoch 61/100\n",
      "39/39 [==============================] - 1s 21ms/step - loss: 59.4467 - mae: 59.9468\n",
      "Epoch 62/100\n",
      "39/39 [==============================] - 1s 21ms/step - loss: 51.3148 - mae: 51.8148\n",
      "Epoch 63/100\n",
      "39/39 [==============================] - 1s 22ms/step - loss: 42.1243 - mae: 42.6243\n",
      "Epoch 64/100\n",
      "39/39 [==============================] - 1s 21ms/step - loss: 31.7524 - mae: 32.2524\n",
      "Epoch 65/100\n",
      "39/39 [==============================] - 1s 21ms/step - loss: 20.0478 - mae: 20.5478\n",
      "Epoch 66/100\n",
      "39/39 [==============================] - 1s 22ms/step - loss: 6.8411 - mae: 7.3357\n",
      "Epoch 67/100\n",
      "39/39 [==============================] - 1s 21ms/step - loss: 0.1687 - mae: 0.4598\n",
      "Epoch 68/100\n",
      "39/39 [==============================] - 1s 20ms/step - loss: 0.0267 - mae: 0.1772\n",
      "Epoch 69/100\n",
      "39/39 [==============================] - 1s 20ms/step - loss: 0.0223 - mae: 0.1644\n",
      "Epoch 70/100\n",
      "39/39 [==============================] - 1s 20ms/step - loss: 0.0224 - mae: 0.1635\n",
      "Epoch 71/100\n",
      "39/39 [==============================] - 1s 21ms/step - loss: 0.0225 - mae: 0.1639\n",
      "Epoch 72/100\n",
      "39/39 [==============================] - 1s 21ms/step - loss: 0.0226 - mae: 0.1642\n",
      "Epoch 73/100\n",
      "39/39 [==============================] - 1s 22ms/step - loss: 0.0227 - mae: 0.1645\n",
      "Epoch 74/100\n",
      "39/39 [==============================] - 1s 22ms/step - loss: 0.0229 - mae: 0.1646: 0s - loss: 0.0233 - mae: \n",
      "Epoch 75/100\n",
      "39/39 [==============================] - 1s 20ms/step - loss: 0.0230 - mae: 0.1647\n",
      "Epoch 76/100\n",
      "39/39 [==============================] - 1s 21ms/step - loss: 0.0231 - mae: 0.1644\n",
      "Epoch 77/100\n",
      "39/39 [==============================] - 1s 21ms/step - loss: 0.0229 - mae: 0.1644\n",
      "Epoch 78/100\n",
      "39/39 [==============================] - 1s 19ms/step - loss: 0.0227 - mae: 0.1642\n",
      "Epoch 79/100\n",
      "39/39 [==============================] - 1s 21ms/step - loss: 0.0227 - mae: 0.1642\n",
      "Epoch 80/100\n",
      "39/39 [==============================] - 1s 22ms/step - loss: 0.0228 - mae: 0.1646\n",
      "Epoch 81/100\n",
      "39/39 [==============================] - 1s 21ms/step - loss: 0.0230 - mae: 0.1653\n",
      "Epoch 82/100\n",
      "39/39 [==============================] - 1s 21ms/step - loss: 0.0233 - mae: 0.1658\n",
      "Epoch 83/100\n"
     ]
    },
    {
     "name": "stdout",
     "output_type": "stream",
     "text": [
      "39/39 [==============================] - 1s 22ms/step - loss: 0.0234 - mae: 0.1659\n",
      "Epoch 84/100\n",
      "39/39 [==============================] - 1s 22ms/step - loss: 0.0234 - mae: 0.1663: 0s - loss: 0.0233 - mae: \n",
      "Epoch 85/100\n",
      "39/39 [==============================] - 1s 20ms/step - loss: 0.0238 - mae: 0.1679\n",
      "Epoch 86/100\n",
      "39/39 [==============================] - 1s 20ms/step - loss: 0.0246 - mae: 0.1699\n",
      "Epoch 87/100\n",
      "39/39 [==============================] - 1s 21ms/step - loss: 0.0252 - mae: 0.1716\n",
      "Epoch 88/100\n",
      "39/39 [==============================] - 1s 21ms/step - loss: 0.0247 - mae: 0.1693\n",
      "Epoch 89/100\n",
      "39/39 [==============================] - 1s 21ms/step - loss: 0.0240 - mae: 0.1671\n",
      "Epoch 90/100\n",
      "39/39 [==============================] - 1s 19ms/step - loss: 0.0245 - mae: 0.1688\n",
      "Epoch 91/100\n",
      "39/39 [==============================] - 1s 21ms/step - loss: 0.0258 - mae: 0.1741\n",
      "Epoch 92/100\n",
      "39/39 [==============================] - 1s 21ms/step - loss: 0.0288 - mae: 0.1867\n",
      "Epoch 93/100\n",
      "39/39 [==============================] - 1s 20ms/step - loss: 0.0346 - mae: 0.2114\n",
      "Epoch 94/100\n",
      "39/39 [==============================] - 1s 21ms/step - loss: 0.0345 - mae: 0.2068\n",
      "Epoch 95/100\n",
      "39/39 [==============================] - 1s 20ms/step - loss: 0.0338 - mae: 0.2056\n",
      "Epoch 96/100\n",
      "39/39 [==============================] - 1s 21ms/step - loss: 0.0369 - mae: 0.2152\n",
      "Epoch 97/100\n",
      "39/39 [==============================] - 1s 21ms/step - loss: 0.0349 - mae: 0.2056\n",
      "Epoch 98/100\n",
      "39/39 [==============================] - 1s 21ms/step - loss: 0.0400 - mae: 0.2277\n",
      "Epoch 99/100\n",
      "39/39 [==============================] - 1s 21ms/step - loss: 0.0518 - mae: 0.2621\n",
      "Epoch 100/100\n",
      "39/39 [==============================] - 1s 20ms/step - loss: 0.0559 - mae: 0.2721\n"
     ]
    }
   ],
   "source": [
    "tf.keras.backend.clear_session()\n",
    "tf.random.set_seed(51)\n",
    "np.random.seed(51)\n",
    "\n",
    "train_set = windowed_dataset(x_train, window_size, batch_size=20, shuffle_buffer=shuffle_buffer_size)\n",
    "\n",
    "model = tf.keras.models.Sequential([\n",
    "  tf.keras.layers.Lambda(lambda x: tf.expand_dims(x, axis=-1),\n",
    "                      input_shape=[None]),\n",
    "  tf.keras.layers.SimpleRNN(40, return_sequences=True),\n",
    "  tf.keras.layers.SimpleRNN(20),\n",
    "#   tf.keras.layers.SimpleRNN(20),\n",
    "  tf.keras.layers.Dense(1),\n",
    "  tf.keras.layers.Lambda(lambda x: x * 10.0)\n",
    "])\n",
    "\n",
    "lr_schedule = tf.keras.callbacks.LearningRateScheduler(\n",
    "    lambda epoch: 1e-8 * 10**(epoch / 20))\n",
    "optimizer = tf.keras.optimizers.SGD(lr=1e-12, momentum=0.9)\n",
    "model.compile(loss=tf.keras.losses.Huber(),\n",
    "              optimizer=optimizer,\n",
    "              metrics=[\"mae\"])\n",
    "history = model.fit(train_set, epochs=100, callbacks=[lr_schedule])"
   ]
  },
  {
   "cell_type": "code",
   "execution_count": 142,
   "metadata": {},
   "outputs": [
    {
     "data": {
      "text/plain": [
       "[1e-08, 0.0001, 0, 30]"
      ]
     },
     "execution_count": 142,
     "metadata": {},
     "output_type": "execute_result"
    },
    {
     "data": {
      "image/png": "[encoded data removed]",
      "text/plain": [
       "<Figure size 432x288 with 1 Axes>"
      ]
     },
     "metadata": {
      "needs_background": "light"
     },
     "output_type": "display_data"
    }
   ],
   "source": [
    "plt.semilogx(history.history[\"lr\"], history.history[\"loss\"])\n",
    "plt.axis([1e-8, 1e-4, 0, 30])"
   ]
  },
  {
   "cell_type": "code",
   "execution_count": 143,
   "metadata": {},
   "outputs": [
    {
     "name": "stdout",
     "output_type": "stream",
     "text": [
      "Epoch 1/24\n",
      "39/39 [==============================] - 3s 67ms/step - loss: 40.8771 - mae: 41.3689\n",
      "Epoch 2/24\n",
      "39/39 [==============================] - 1s 21ms/step - loss: 2.4734 - mae: 2.9407\n",
      "Epoch 3/24\n",
      "39/39 [==============================] - 1s 21ms/step - loss: 1.5709 - mae: 2.0409\n",
      "Epoch 4/24\n",
      "39/39 [==============================] - 1s 20ms/step - loss: 0.1322 - mae: 0.4260\n",
      "Epoch 5/24\n",
      "39/39 [==============================] - 1s 21ms/step - loss: 0.0725 - mae: 0.3110\n",
      "Epoch 6/24\n",
      "39/39 [==============================] - 1s 21ms/step - loss: 0.0738 - mae: 0.3159\n",
      "Epoch 7/24\n",
      "39/39 [==============================] - 1s 21ms/step - loss: 0.0727 - mae: 0.3134\n",
      "Epoch 8/24\n",
      "39/39 [==============================] - 1s 21ms/step - loss: 0.0722 - mae: 0.3121\n",
      "Epoch 9/24\n",
      "39/39 [==============================] - 1s 21ms/step - loss: 0.0715 - mae: 0.3107\n",
      "Epoch 10/24\n",
      "39/39 [==============================] - 1s 22ms/step - loss: 0.0709 - mae: 0.3095\n",
      "Epoch 11/24\n",
      "39/39 [==============================] - 1s 22ms/step - loss: 0.0704 - mae: 0.3084\n",
      "Epoch 12/24\n",
      "39/39 [==============================] - 1s 21ms/step - loss: 0.0699 - mae: 0.3074\n",
      "Epoch 13/24\n",
      "39/39 [==============================] - 1s 21ms/step - loss: 0.0693 - mae: 0.3063\n",
      "Epoch 14/24\n",
      "39/39 [==============================] - 1s 21ms/step - loss: 0.0687 - mae: 0.3052\n",
      "Epoch 15/24\n",
      "39/39 [==============================] - 1s 20ms/step - loss: 0.0682 - mae: 0.3041\n",
      "Epoch 16/24\n",
      "39/39 [==============================] - 1s 22ms/step - loss: 0.0677 - mae: 0.3031\n",
      "Epoch 17/24\n",
      "39/39 [==============================] - 1s 22ms/step - loss: 0.0673 - mae: 0.3024\n",
      "Epoch 18/24\n",
      "39/39 [==============================] - 1s 21ms/step - loss: 0.0669 - mae: 0.3016\n",
      "Epoch 19/24\n",
      "39/39 [==============================] - 1s 21ms/step - loss: 0.0665 - mae: 0.3010\n",
      "Epoch 20/24\n",
      "39/39 [==============================] - 1s 19ms/step - loss: 0.0662 - mae: 0.3005\n",
      "Epoch 21/24\n",
      "39/39 [==============================] - 1s 20ms/step - loss: 0.0659 - mae: 0.3000\n",
      "Epoch 22/24\n",
      "39/39 [==============================] - 1s 22ms/step - loss: 0.0656 - mae: 0.2995\n",
      "Epoch 23/24\n",
      "39/39 [==============================] - 1s 19ms/step - loss: 0.0654 - mae: 0.2992\n",
      "Epoch 24/24\n",
      "39/39 [==============================] - 1s 21ms/step - loss: 0.0652 - mae: 0.2989\n"
     ]
    }
   ],
   "source": [
    "tf.keras.backend.clear_session()\n",
    "tf.random.set_seed(51)\n",
    "np.random.seed(51)\n",
    "\n",
    "dataset = windowed_dataset(x_train, window_size, batch_size=20, shuffle_buffer=shuffle_buffer_size)\n",
    "\n",
    "model = tf.keras.models.Sequential([\n",
    "  tf.keras.layers.Lambda(lambda x: tf.expand_dims(x, axis=-1),\n",
    "                      input_shape=[None]),\n",
    "  tf.keras.layers.SimpleRNN(20, return_sequences=True),\n",
    "  tf.keras.layers.SimpleRNN(20),\n",
    "  tf.keras.layers.Dense(1),\n",
    "  tf.keras.layers.Lambda(lambda x: x * 50.0)\n",
    "])\n",
    "\n",
    "optimizer = tf.keras.optimizers.SGD(lr=8e-5, momentum=0.9)\n",
    "model.compile(loss=tf.keras.losses.Huber(),\n",
    "              optimizer=optimizer,\n",
    "              metrics=[\"mae\"])\n",
    "history = model.fit(dataset,epochs=24)"
   ]
  },
  {
   "cell_type": "code",
   "execution_count": 144,
   "metadata": {},
   "outputs": [
    {
     "data": {
      "image/png": "[encoded data removed]",
      "text/plain": [
       "<Figure size 720x432 with 1 Axes>"
      ]
     },
     "metadata": {
      "needs_background": "light"
     },
     "output_type": "display_data"
    }
   ],
   "source": [
    "forecast=[]\n",
    "for time in range(len(series) - window_size):\n",
    "    forecast.append(model.predict(series[time:time + window_size][np.newaxis]))\n",
    "\n",
    "forecast = forecast[split_time-window_size:]\n",
    "results = np.array(forecast)[:, 0, 0]\n",
    "\n",
    "\n",
    "plt.figure(figsize=(10, 6))\n",
    "\n",
    "plot_series(time_valid, x_valid)\n",
    "plot_series(time_valid, results)"
   ]
  },
  {
   "cell_type": "code",
   "execution_count": 146,
   "metadata": {},
   "outputs": [
    {
     "data": {
      "image/png": "[encoded data removed]",
      "text/plain": [
       "<Figure size 432x288 with 1 Axes>"
      ]
     },
     "metadata": {
      "needs_background": "light"
     },
     "output_type": "display_data"
    }
   ],
   "source": [
    "\n",
    "plot_series(time_valid, results)"
   ]
  },
  {
   "cell_type": "code",
   "execution_count": 147,
   "metadata": {},
   "outputs": [
    {
     "data": {
      "image/png": "[encoded data removed]",
      "text/plain": [
       "<Figure size 432x288 with 1 Axes>"
      ]
     },
     "metadata": {
      "needs_background": "light"
     },
     "output_type": "display_data"
    }
   ],
   "source": [
    "plot_series(time_valid, x_valid)"
   ]
  },
  {
   "cell_type": "code",
   "execution_count": 148,
   "metadata": {},
   "outputs": [
    {
     "data": {
      "text/plain": [
       "array([139.466, 139.451, 139.46 , 139.474, 139.478, 139.456, 139.454,\n",
       "       139.465, 139.489, 139.47 , 139.455, 139.463, 139.473, 139.502,\n",
       "       139.503, 139.513, 139.509, 139.513, 139.511, 139.506, 139.523,\n",
       "       139.544, 139.525, 139.525, 139.535, 139.526, 139.516, 139.517,\n",
       "       139.52 , 139.54 , 139.536, 139.529, 139.51 , 139.512, 139.498,\n",
       "       139.506, 139.503, 139.512, 139.505, 139.503, 139.511, 139.507,\n",
       "       139.507, 139.494, 139.5  , 139.507, 139.498, 139.49 , 139.484,\n",
       "       139.496, 139.492, 139.498, 139.517, 139.518, 139.53 , 139.538,\n",
       "       139.543, 139.544, 139.532, 139.526, 139.533, 139.559, 139.561,\n",
       "       139.561, 139.558, 139.556, 139.558, 139.549, 139.544, 139.558,\n",
       "       139.543, 139.548, 139.538, 139.542, 139.54 , 139.537, 139.536,\n",
       "       139.535, 139.522, 139.524, 139.528, 139.527, 139.528, 139.535,\n",
       "       139.548, 139.553, 139.556, 139.556, 139.55 , 139.55 , 139.538,\n",
       "       139.545, 139.544, 139.535, 139.526, 139.517, 139.53 , 139.531,\n",
       "       139.531, 139.54 , 139.537, 139.528, 139.538, 139.537, 139.536,\n",
       "       139.534, 139.534, 139.533, 139.545, 139.544, 139.545, 139.552,\n",
       "       139.551, 139.556, 139.561, 139.556, 139.558, 139.557, 139.556,\n",
       "       139.562, 139.563, 139.584, 139.58 , 139.579, 139.567, 139.571,\n",
       "       139.572, 139.578, 139.583, 139.592, 139.62 , 139.618, 139.611,\n",
       "       139.598, 139.593, 139.588, 139.588, 139.591, 139.595, 139.592,\n",
       "       139.584, 139.582, 139.581, 139.585, 139.598, 139.595, 139.59 ,\n",
       "       139.597, 139.591, 139.594, 139.597, 139.613, 139.609, 139.604,\n",
       "       139.603, 139.594, 139.593, 139.63 , 139.603, 139.604, 139.606,\n",
       "       139.606, 139.605, 139.598, 139.602, 139.605, 139.601, 139.589,\n",
       "       139.596, 139.607, 139.626, 139.634, 139.628, 139.611, 139.621,\n",
       "       139.621, 139.621, 139.637, 139.633, 139.633, 139.646, 139.643,\n",
       "       139.645, 139.643, 139.644, 139.649, 139.645, 139.646, 139.651,\n",
       "       139.659, 139.653, 139.654, 139.64 , 139.637, 139.644, 139.639,\n",
       "       139.646, 139.636, 139.639, 139.637, 139.64 , 139.605, 139.612,\n",
       "       139.574, 139.561, 139.572, 139.582, 139.566, 139.547, 139.543,\n",
       "       139.53 , 139.557, 139.578, 139.567, 139.594, 139.588, 139.579,\n",
       "       139.552, 139.557])"
      ]
     },
     "execution_count": 148,
     "metadata": {},
     "output_type": "execute_result"
    }
   ],
   "source": [
    "x_valid"
   ]
  },
  {
   "cell_type": "code",
   "execution_count": 149,
   "metadata": {},
   "outputs": [],
   "source": [
    "# results = -results"
   ]
  },
  {
   "cell_type": "code",
   "execution_count": 150,
   "metadata": {},
   "outputs": [
    {
     "data": {
      "text/plain": [
       "array([139.80437, 139.80437, 139.80437, 139.80437, 139.80437, 139.80437,\n",
       "       139.80437, 139.80437, 139.80437, 139.80437, 139.80437, 139.80437,\n",
       "       139.80437, 139.80437, 139.80437, 139.80437, 139.80437, 139.80437,\n",
       "       139.80437, 139.80437, 139.80437, 139.80437, 139.80437, 139.80437,\n",
       "       139.80437, 139.80437, 139.80437, 139.80437, 139.80437, 139.80437,\n",
       "       139.80437, 139.80437, 139.80437, 139.80437, 139.80437, 139.80437,\n",
       "       139.80437, 139.80437, 139.80437, 139.80437, 139.80437, 139.80437,\n",
       "       139.80437, 139.80437, 139.80437, 139.80437, 139.80437, 139.80437,\n",
       "       139.80437, 139.80437, 139.80437, 139.80437, 139.80437, 139.80437,\n",
       "       139.80437, 139.80437, 139.80437, 139.80437, 139.80437, 139.80437,\n",
       "       139.80437, 139.80437, 139.80437, 139.80437, 139.80437, 139.80437,\n",
       "       139.80437, 139.80437, 139.80437, 139.80437, 139.80437, 139.80437,\n",
       "       139.80437, 139.80437, 139.80437, 139.80437, 139.80437, 139.80437,\n",
       "       139.80437, 139.80437, 139.80437, 139.80437, 139.80437, 139.80437,\n",
       "       139.80437, 139.80437, 139.80437, 139.80437, 139.80437, 139.80437,\n",
       "       139.80437, 139.80437, 139.80437, 139.80437, 139.80437, 139.80437,\n",
       "       139.80437, 139.80437, 139.80437, 139.80437, 139.80437, 139.80437,\n",
       "       139.80437, 139.80437, 139.80437, 139.80437, 139.80437, 139.80437,\n",
       "       139.80437, 139.80437, 139.80437, 139.80437, 139.80437, 139.80437,\n",
       "       139.80437, 139.80437, 139.80437, 139.80437, 139.80437, 139.80437,\n",
       "       139.80437, 139.80437, 139.80437, 139.80437, 139.80437, 139.80437,\n",
       "       139.80437, 139.80437, 139.80437, 139.80437, 139.80437, 139.80437,\n",
       "       139.80437, 139.80437, 139.80437, 139.80437, 139.80437, 139.80437,\n",
       "       139.80437, 139.80437, 139.80437, 139.80437, 139.80437, 139.80437,\n",
       "       139.80437, 139.80437, 139.80437, 139.80437, 139.80437, 139.80437,\n",
       "       139.80437, 139.80437, 139.80437, 139.80437, 139.80437, 139.80437,\n",
       "       139.80437, 139.80437, 139.80437, 139.80437, 139.80437, 139.80437,\n",
       "       139.80437, 139.80437, 139.80437, 139.80437, 139.80437, 139.80437,\n",
       "       139.80437, 139.80437, 139.80437, 139.80437, 139.80437, 139.80437,\n",
       "       139.80437, 139.80437, 139.80437, 139.80437, 139.80437, 139.80437,\n",
       "       139.80437, 139.80437, 139.80437, 139.80437, 139.80437, 139.80437,\n",
       "       139.80437, 139.80437, 139.80437, 139.80437, 139.80437, 139.80437,\n",
       "       139.80437, 139.80437, 139.80437, 139.80437, 139.80437, 139.80437,\n",
       "       139.80437, 139.80437, 139.80437, 139.80437, 139.80437, 139.80437,\n",
       "       139.80437, 139.80437, 139.80437, 139.80437, 139.80437, 139.80437,\n",
       "       139.80437, 139.80437, 139.80437, 139.80437, 139.80437, 139.80437,\n",
       "       139.80437, 139.80437, 139.80437], dtype=float32)"
      ]
     },
     "execution_count": 150,
     "metadata": {},
     "output_type": "execute_result"
    }
   ],
   "source": [
    "results"
   ]
  },
  {
   "cell_type": "code",
   "execution_count": 151,
   "metadata": {},
   "outputs": [
    {
     "data": {
      "image/png": "[encoded data removed]",
      "text/plain": [
       "<Figure size 432x288 with 1 Axes>"
      ]
     },
     "metadata": {
      "needs_background": "light"
     },
     "output_type": "display_data"
    }
   ],
   "source": [
    "plot_series(time_valid, results)"
   ]
  },
  {
   "cell_type": "markdown",
   "metadata": {},
   "source": [
    "### Join main table and sample to get real timestamp values"
   ]
  },
  {
   "cell_type": "code",
   "execution_count": 152,
   "metadata": {},
   "outputs": [],
   "source": [
    "time_valid_df = pd.DataFrame(time_valid, columns=['value'])"
   ]
  },
  {
   "cell_type": "code",
   "execution_count": 153,
   "metadata": {},
   "outputs": [],
   "source": [
    "final_timestamp = pd.merge(right=gbpJpy_data_tst, left=time_valid_df, how='left', left_on='value',right_on='time_')"
   ]
  },
  {
   "cell_type": "code",
   "execution_count": 154,
   "metadata": {},
   "outputs": [],
   "source": [
    "final_timestamp = final_timestamp['timestamp']"
   ]
  },
  {
   "cell_type": "code",
   "execution_count": 155,
   "metadata": {},
   "outputs": [
    {
     "data": {
      "text/plain": [
       "[<matplotlib.lines.Line2D at 0x165c3f9ab38>]"
      ]
     },
     "execution_count": 155,
     "metadata": {},
     "output_type": "execute_result"
    },
    {
     "data": {
      "image/png": "[encoded data removed]",
      "text/plain": [
       "<Figure size 720x720 with 2 Axes>"
      ]
     },
     "metadata": {
      "needs_background": "light"
     },
     "output_type": "display_data"
    }
   ],
   "source": [
    "fig, axs = plt.subplots(2,figsize=(10,10))\n",
    "axs[0].plot(final_timestamp, x_valid)\n",
    "axs[1].plot(final_timestamp, results)"
   ]
  },
  {
   "cell_type": "code",
   "execution_count": null,
   "metadata": {},
   "outputs": [],
   "source": []
  },
  {
   "cell_type": "code",
   "execution_count": null,
   "metadata": {},
   "outputs": [],
   "source": []
  },
  {
   "cell_type": "code",
   "execution_count": null,
   "metadata": {},
   "outputs": [],
   "source": []
  },
  {
   "cell_type": "code",
   "execution_count": null,
   "metadata": {},
   "outputs": [],
   "source": []
  },
  {
   "cell_type": "code",
   "execution_count": null,
   "metadata": {},
   "outputs": [],
   "source": []
  },
  {
   "cell_type": "code",
   "execution_count": null,
   "metadata": {},
   "outputs": [],
   "source": []
  },
  {
   "cell_type": "code",
   "execution_count": null,
   "metadata": {},
   "outputs": [],
   "source": []
  }
 ],
 "metadata": {
  "kernelspec": {
   "display_name": "Python 3",
   "language": "python",
   "name": "python3"
  },
  "language_info": {
   "codemirror_mode": {
    "name": "ipython",
    "version": 3
   },
   "file_extension": ".py",
   "mimetype": "text/x-python",
   "name": "python",
   "nbconvert_exporter": "python",
   "pygments_lexer": "ipython3",
   "version": "3.6.8"
  }
 },
 "nbformat": 4,
 "nbformat_minor": 2
}

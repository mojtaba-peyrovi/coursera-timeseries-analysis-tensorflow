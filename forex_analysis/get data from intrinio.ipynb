{
 "cells": [
  {
   "cell_type": "code",
   "execution_count": 9,
   "metadata": {},
   "outputs": [],
   "source": [
    "import datetime\n",
    "import json\n",
    "import pandas as pd"
   ]
  },
  {
   "cell_type": "code",
   "execution_count": 51,
   "metadata": {},
   "outputs": [
    {
     "name": "stdout",
     "output_type": "stream",
     "text": [
      "Exception when calling ForexApi->get_forex_prices: (429)\n",
      "Reason: Too Many Requests\n",
      "HTTP response headers: HTTPHeaderDict({'Date': 'Sat, 16 Nov 2019 02:02:27 GMT', 'Content-Type': 'application/json', 'Content-Length': '233', 'Connection': 'keep-alive', 'Vary': 'Origin,Accept-Encoding'})\n",
      "HTTP response body: {\"error\":\"1 Minute Call Limit Reached\",\"message\":\"You have exceeded the limits for how frequently you can make API calls with high paging parameters. Please contact support if you need a higher limit.\",\"access_codes\":[\"high_paging\"]}\n",
      "\r\n",
      "\n"
     ]
    }
   ],
   "source": [
    "from __future__ import print_function\n",
    "import time\n",
    "import intrinio_sdk\n",
    "from intrinio_sdk.rest import ApiException\n",
    "from pprint import pprint\n",
    "\n",
    "intrinio_sdk.ApiClient().configuration.api_key['api_key'] = 'OjdlNTFiZWZkNzEyOGE1OTBjOTE0NTkzYzc2ZjYwMDBh'\n",
    "\n",
    "forex_api = intrinio_sdk.ForexApi()\n",
    "\n",
    "pair = 'EURUSD' # str | The Forex Currency Pair code\n",
    "timeframe = 'H1' # str | The time interval for the quotes\n",
    "timezone = 'UTC' # str | Returns trading times in this timezone (optional) (default to UTC)\n",
    "start_date = '2019-10-16' # date | Return Forex Prices on or after this date (optional)\n",
    "start_time = '' # str | Return Forex Prices at or after this time (24-hour) (optional)\n",
    "end_date = '2019-05-16' # date | Return Forex Prices on or before this date (optional)\n",
    "end_time = '' # str | Return Forex Prices at or before this time (24-hour) (optional)\n",
    "page_size = 1000 # int | The number of results to return (optional) (default to 100)\n",
    "next_page = '' # str | Gets the next page of data from a previous API call (optional)\n",
    "\n",
    "try:\n",
    "  api_response = forex_api.get_forex_prices(pair, timeframe, timezone=timezone, start_date=start_date, start_time=start_time, end_date=end_date, end_time=end_time, page_size=page_size, next_page=next_page)\n",
    "  pprint(api_response)\n",
    "except ApiException as e:\n",
    "  print(\"Exception when calling ForexApi->get_forex_prices: %s\\r\\n\" % e)\n",
    "    \n",
    "\n",
    "    \n"
   ]
  },
  {
   "cell_type": "code",
   "execution_count": 52,
   "metadata": {},
   "outputs": [],
   "source": [
    "# ! pip install intrinio_sdk"
   ]
  },
  {
   "cell_type": "code",
   "execution_count": 53,
   "metadata": {},
   "outputs": [],
   "source": [
    "data = api_response.to_dict()"
   ]
  },
  {
   "cell_type": "code",
   "execution_count": null,
   "metadata": {},
   "outputs": [],
   "source": []
  },
  {
   "cell_type": "code",
   "execution_count": 54,
   "metadata": {},
   "outputs": [
    {
     "data": {
      "text/plain": [
       "100"
      ]
     },
     "execution_count": 54,
     "metadata": {},
     "output_type": "execute_result"
    }
   ],
   "source": [
    "len(data['prices'])"
   ]
  },
  {
   "cell_type": "code",
   "execution_count": null,
   "metadata": {},
   "outputs": [],
   "source": []
  },
  {
   "cell_type": "code",
   "execution_count": null,
   "metadata": {},
   "outputs": [],
   "source": []
  }
 ],
 "metadata": {
  "kernelspec": {
   "display_name": "Python 3",
   "language": "python",
   "name": "python3"
  },
  "language_info": {
   "codemirror_mode": {
    "name": "ipython",
    "version": 3
   },
   "file_extension": ".py",
   "mimetype": "text/x-python",
   "name": "python",
   "nbconvert_exporter": "python",
   "pygments_lexer": "ipython3",
   "version": "3.6.8"
  }
 },
 "nbformat": 4,
 "nbformat_minor": 2
}
